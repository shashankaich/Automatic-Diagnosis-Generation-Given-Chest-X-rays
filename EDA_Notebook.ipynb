{
 "cells": [
  {
   "cell_type": "markdown",
   "metadata": {
    "id": "vB8jvLwZCbwS"
   },
   "source": [
    "# Automatic Diagnosis Generation Given Chest X-rays EDA"
   ]
  },
  {
   "cell_type": "markdown",
   "metadata": {
    "toc": true
   },
   "source": [
    "<h1>Table of Contents<span class=\"tocSkip\"></span></h1>\n",
    "<div class=\"toc\"><ul class=\"toc-item\"><li><span><a href=\"#Reading-Data\" data-toc-modified-id=\"Reading-Data-1\"><span class=\"toc-item-num\">1&nbsp;&nbsp;</span>Reading Data</a></span></li><li><span><a href=\"#Data-Cleaning\" data-toc-modified-id=\"Data-Cleaning-2\"><span class=\"toc-item-num\">2&nbsp;&nbsp;</span>Data Cleaning</a></span></li><li><span><a href=\"#Dataset-with-Findings-and-Impression-and-Images\" data-toc-modified-id=\"Dataset-with-Findings-and-Impression-and-Images-3\"><span class=\"toc-item-num\">3&nbsp;&nbsp;</span>Dataset with Findings and Impression and Images</a></span></li><li><span><a href=\"#Exploratery-Data-Analysis\" data-toc-modified-id=\"Exploratery-Data-Analysis-4\"><span class=\"toc-item-num\">4&nbsp;&nbsp;</span>Exploratery Data Analysis</a></span><ul class=\"toc-item\"><li><span><a href=\"#Images\" data-toc-modified-id=\"Images-4.1\"><span class=\"toc-item-num\">4.1&nbsp;&nbsp;</span>Images</a></span></li><li><span><a href=\"#Impressions\" data-toc-modified-id=\"Impressions-4.2\"><span class=\"toc-item-num\">4.2&nbsp;&nbsp;</span>Impressions</a></span></li></ul></li><li><span><a href=\"#Conclusions\" data-toc-modified-id=\"Conclusions-5\"><span class=\"toc-item-num\">5&nbsp;&nbsp;</span>Conclusions</a></span></li><li><span><a href=\"#References\" data-toc-modified-id=\"References-6\"><span class=\"toc-item-num\">6&nbsp;&nbsp;</span>References</a></span></li></ul></div>"
   ]
  },
  {
   "cell_type": "code",
   "execution_count": null,
   "metadata": {
    "colab": {
     "base_uri": "https://localhost:8080/",
     "height": 133
    },
    "id": "KrdrtKQSgeSQ",
    "outputId": "83ae6ff0-4d4f-4622-b427-124cc6e6fc02"
   },
   "outputs": [
    {
     "name": "stdout",
     "output_type": "stream",
     "text": [
      "Go to this URL in a browser: https://accounts.google.com/o/oauth2/auth?client_id=947318989803-6bn6qk8qdgf4n4g3pfee6491hc0brc4i.apps.googleusercontent.com&redirect_uri=urn%3aietf%3awg%3aoauth%3a2.0%3aoob&response_type=code&scope=email%20https%3a%2f%2fwww.googleapis.com%2fauth%2fdocs.test%20https%3a%2f%2fwww.googleapis.com%2fauth%2fdrive%20https%3a%2f%2fwww.googleapis.com%2fauth%2fdrive.photos.readonly%20https%3a%2f%2fwww.googleapis.com%2fauth%2fpeopleapi.readonly\n",
      "\n",
      "Enter your authorization code:\n",
      "··········\n",
      "Mounted at /content/gdrive\n"
     ]
    }
   ],
   "source": [
    "# mounting drive\n",
    "from google.colab import drive\n",
    "drive.mount('/content/gdrive', force_remount=True)\n",
    "drive_path = '/content/gdrive/My Drive/Assignments_Drive/Case_Study_2/Medical_Data'\n",
    "# specifying paths\n",
    "txt_path = drive_path + '/ecgen'\n",
    "img_path = drive_path + '/images'"
   ]
  },
  {
   "cell_type": "code",
   "execution_count": null,
   "metadata": {
    "colab": {
     "base_uri": "https://localhost:8080/",
     "height": 55
    },
    "id": "RiTLgpD0_Gni",
    "outputId": "ef2ba6e0-1a4d-4b10-d477-63c8a12fdb71"
   },
   "outputs": [
    {
     "name": "stdout",
     "output_type": "stream",
     "text": [
      "The number of text files are 3955\n",
      "The number of image files are 7472\n"
     ]
    }
   ],
   "source": [
    "# this code is used to find the number of xml files in the data\n",
    "from os import listdir\n",
    "txt  = []\n",
    "for name in listdir(txt_path):\n",
    "    txt.append(name)\n",
    "print('The number of text files are',len(txt))\n",
    "\n",
    "# this code is used to find the number of image files in the data\n",
    "img  = []\n",
    "for name in listdir(img_path):\n",
    "    img.append(name)\n",
    "print('The number of image files are',len(img))"
   ]
  },
  {
   "cell_type": "code",
   "execution_count": null,
   "metadata": {
    "colab": {
     "base_uri": "https://localhost:8080/",
     "height": 55
    },
    "id": "-QHENsUl_Gr1",
    "outputId": "1d79f797-0a59-455a-9988-eb4ef2c70add"
   },
   "outputs": [
    {
     "name": "stdout",
     "output_type": "stream",
     "text": [
      "Requirement already satisfied: beautifulsoup4 in /usr/local/lib/python3.6/dist-packages (4.6.3)\n",
      "Requirement already satisfied: lxml in /usr/local/lib/python3.6/dist-packages (4.2.6)\n"
     ]
    }
   ],
   "source": [
    "#install beautifulsoup4 and lxml\n",
    "! pip install beautifulsoup4\n",
    "! pip install lxml"
   ]
  },
  {
   "cell_type": "code",
   "execution_count": null,
   "metadata": {
    "colab": {
     "base_uri": "https://localhost:8080/",
     "height": 75
    },
    "id": "W4Sls8nSeC36",
    "outputId": "c787377a-50d8-4e0a-a9f7-542cace8b101"
   },
   "outputs": [
    {
     "name": "stderr",
     "output_type": "stream",
     "text": [
      "/usr/local/lib/python3.6/dist-packages/statsmodels/tools/_testing.py:19: FutureWarning: pandas.util.testing is deprecated. Use the functions in the public API at pandas.testing instead.\n",
      "  import pandas.util.testing as tm\n"
     ]
    }
   ],
   "source": [
    "# imports\n",
    "import os\n",
    "import re\n",
    "import pandas as pd\n",
    "from bs4 import BeautifulSoup\n",
    "from tqdm import tqdm\n",
    "import seaborn as sns\n",
    "import matplotlib.pyplot as plt\n",
    "from PIL import Image\n",
    "from sklearn.feature_extraction.text import CountVectorizer"
   ]
  },
  {
   "cell_type": "markdown",
   "metadata": {
    "id": "b6clJ5JrpJXY"
   },
   "source": [
    "## Reading Data"
   ]
  },
  {
   "cell_type": "code",
   "execution_count": null,
   "metadata": {
    "id": "HodORH5lpDXf"
   },
   "outputs": [],
   "source": [
    "# This function is used to open a text file\n",
    "def load_doc(filename):\n",
    "\t# open the file as read only\n",
    "\tfile = open(filename, 'r')\n",
    "\t# read all text\n",
    "\ttext = file.read()\n",
    "\t# close the file\n",
    "\tfile.close()\n",
    "\treturn text"
   ]
  },
  {
   "cell_type": "code",
   "execution_count": null,
   "metadata": {
    "colab": {
     "base_uri": "https://localhost:8080/",
     "height": 75
    },
    "id": "9FtKPZordiq7",
    "outputId": "e9ec3f4f-9818-4dd8-fdd8-783b9b869b61"
   },
   "outputs": [
    {
     "name": "stdout",
     "output_type": "stream",
     "text": [
      "['3691.xml', '3697.xml', '3682.xml', '3674.xml', '3685.xml', '37.xml', '3703.xml', '3702.xml', '3694.xml', '3664.xml', '368.xml', '367.xml', '3677.xml', '366.xml', '3724.xml', '3749.xml', '3709.xml', '3712.xml', '3734.xml', '3747.xml', '3718.xml', '3733.xml', '375.xml', '373.xml', '3716.xml', '3759.xml', '374.xml', '3720.xml', '3741.xml', '372.xml', '3729.xml', '3762.xml', '3736.xml', '3713.xml', '3764.xml', '3726.xml', '3750.xml', '3735.xml', '3705.xml', '3739.xml', '3719.xml', '3760.xml', '3710.xml', '3746.xml', '3763.xml', '3715.xml', '3721.xml', '3737.xml', '3745.xml', '3757.xml', '3728.xml', '3767.xml', '3758.xml', '3722.xml', '3730.xml', '3732.xml', '3766.xml', '3706.xml', '3717.xml', '3740.xml', '3742.xml', '3754.xml', '3748.xml', '3752.xml', '3708.xml', '376.xml', '3704.xml', '3751.xml', '3714.xml', '3765.xml', '3707.xml', '3744.xml', '3731.xml', '371.xml', '3755.xml', '3727.xml', '3743.xml', '3761.xml', '3738.xml', '3725.xml', '3753.xml', '3756.xml', '3723.xml', '378.xml', '3798.xml', '3812.xml', '3789.xml', '3804.xml', '3787.xml', '3796.xml', '3772.xml', '3793.xml', '3791.xml', '377.xml', '3799.xml', '3779.xml', '3815.xml', '3768.xml', '3794.xml', '3813.xml', '3817.xml', '3809.xml', '3770.xml', '3814.xml', '382.xml', '3776.xml', '38.xml', '3811.xml', '3790.xml', '3795.xml', '3808.xml', '3784.xml', '3778.xml', '381.xml', '3774.xml', '3801.xml', '3802.xml', '3797.xml', '3803.xml', '3775.xml', '3782.xml', '3820.xml', '3771.xml', '3780.xml', '3781.xml', '3821.xml', '3805.xml', '3777.xml', '3807.xml', '3786.xml', '3816.xml', '3818.xml', '3806.xml', '3788.xml', '3822.xml', '3792.xml', '379.xml', '3810.xml', '3769.xml', '3819.xml', '3773.xml', '3800.xml', '380.xml', '3783.xml', '3785.xml', '3877.xml', '388.xml', '3868.xml', '3873.xml', '3881.xml', '3834.xml', '3838.xml', '3856.xml', '3865.xml', '3829.xml', '3835.xml', '3879.xml', '3837.xml', '3876.xml', '3852.xml', '3842.xml', '3870.xml', '3841.xml', '3831.xml', '3871.xml', '3880.xml', '3839.xml', '3843.xml', '3847.xml', '386.xml', '3867.xml', '3848.xml', '3845.xml', '3857.xml', '384.xml', '3846.xml', '3840.xml', '3862.xml', '3851.xml', '3832.xml', '3878.xml', '3836.xml', '3824.xml', '387.xml', '3866.xml', '3874.xml', '3855.xml', '3863.xml', '3825.xml', '3882.xml', '3830.xml', '3875.xml', '3854.xml', '3826.xml', '3869.xml', '3833.xml', '3828.xml', '3827.xml', '3850.xml', '383.xml', '385.xml', '3860.xml', '3849.xml', '3823.xml', '3853.xml', '3861.xml', '3844.xml', '3872.xml', '3858.xml', '3859.xml', '3909.xml', '3888.xml', '3898.xml', '3914.xml', '3887.xml', '3900.xml', '3910.xml', '3912.xml', '3891.xml', '3886.xml', '3922.xml', '3919.xml', '3899.xml', '3930.xml', '3906.xml', '3902.xml', '3923.xml', '3907.xml', '3892.xml', '3895.xml', '391.xml', '3924.xml', '3913.xml', '39.xml', '3928.xml', '3897.xml', '3932.xml', '3911.xml', '389.xml', '390.xml', '3916.xml', '3890.xml', '3926.xml', '3904.xml', '3927.xml', '3889.xml', '3901.xml', '3903.xml', '3893.xml', '3933.xml', '3884.xml', '3883.xml', '3920.xml', '3905.xml', '392.xml', '393.xml', '3929.xml', '3918.xml', '3915.xml', '3931.xml', '3925.xml', '3921.xml', '3908.xml', '3885.xml', '3896.xml', '3894.xml', '3917.xml', '3937.xml', '3961.xml', '3957.xml', '3984.xml', '3978.xml', '3943.xml', '3983.xml', '3954.xml', '398.xml', '3944.xml', '3950.xml', '3939.xml', '3990.xml', '396.xml', '3977.xml', '3973.xml', '3947.xml', '3938.xml', '3955.xml', '3959.xml', '3962.xml', '3951.xml', '3936.xml', '3948.xml', '3975.xml', '3972.xml', '3958.xml', '3974.xml', '395.xml', '3967.xml', '3949.xml', '3953.xml', '3988.xml', '3976.xml', '3934.xml', '3966.xml', '3987.xml', '3970.xml', '3971.xml', '3964.xml', '3960.xml', '3940.xml', '3979.xml', '3942.xml', '3952.xml', '3935.xml', '3980.xml', '3963.xml', '3991.xml', '3946.xml', '3965.xml', '3956.xml', '3986.xml', '3989.xml', '399.xml', '397.xml', '3968.xml', '3941.xml', '3969.xml', '394.xml', '3981.xml', '3945.xml', '3982.xml', '3985.xml', '404.xml', '41.xml', '3997.xml', '406.xml', '432.xml', '3998.xml', '3993.xml', '3996.xml', '419.xml', '401.xml', '403.xml', '408.xml', '430.xml', '417.xml', '4.xml', '423.xml', '40.xml', '425.xml', '405.xml', '414.xml', '43.xml', '416.xml', '421.xml', '424.xml', '410.xml', '415.xml', '3992.xml', '420.xml', '3995.xml', '429.xml', '409.xml', '427.xml', '402.xml', '413.xml', '42.xml', '418.xml', '412.xml', '3999.xml', '3994.xml', '407.xml', '426.xml', '428.xml', '400.xml', '433.xml', '431.xml', '411.xml', '422.xml', '444.xml', '434.xml', '441.xml', '470.xml', '476.xml', '453.xml', '451.xml', '482.xml', '454.xml', '460.xml', '437.xml', '446.xml', '472.xml', '47.xml', '463.xml', '448.xml', '456.xml', '479.xml', '440.xml', '445.xml', '469.xml', '465.xml', '488.xml', '438.xml', '480.xml', '489.xml', '435.xml', '462.xml', '467.xml', '466.xml', '455.xml', '46.xml', '484.xml', '443.xml', '481.xml', '485.xml', '473.xml', '436.xml', '477.xml', '45.xml', '442.xml', '452.xml', '487.xml', '457.xml', '44.xml', '458.xml', '439.xml', '48.xml', '468.xml', '464.xml', '471.xml', '478.xml', '461.xml', '475.xml', '450.xml', '459.xml', '474.xml', '483.xml', '486.xml', '449.xml', '51.xml', '500.xml', '505.xml', '501.xml', '503.xml', '5.xml', '50.xml', '507.xml', '514.xml', '506.xml', '493.xml', '495.xml', '490.xml', '509.xml', '497.xml', '491.xml', '494.xml', '498.xml', '511.xml', '49.xml', '492.xml', '510.xml', '508.xml', '504.xml', '499.xml', '502.xml', '496.xml', '512.xml', '513.xml', '515.xml', '561.xml', '542.xml', '525.xml', '541.xml', '552.xml', '565.xml', '516.xml', '570.xml', '527.xml', '564.xml', '532.xml', '539.xml', '520.xml', '550.xml', '519.xml', '553.xml', '526.xml', '56.xml', '543.xml', '535.xml', '547.xml', '551.xml', '523.xml', '531.xml', '556.xml', '571.xml', '567.xml', '57.xml', '54.xml', '545.xml', '55.xml', '524.xml', '548.xml', '555.xml', '544.xml', '534.xml', '557.xml', '521.xml', '562.xml', '568.xml', '559.xml', '533.xml', '52.xml', '546.xml', '558.xml', '53.xml', '540.xml', '522.xml', '549.xml', '560.xml', '518.xml', '554.xml', '537.xml', '566.xml', '538.xml', '517.xml', '536.xml', '563.xml', '530.xml', '569.xml', '528.xml', '529.xml', '590.xml', '60.xml', '591.xml', '585.xml', '593.xml', '597.xml', '603.xml', '577.xml', '584.xml', '59.xml', '579.xml', '588.xml', '582.xml', '581.xml', '594.xml', '586.xml', '580.xml', '575.xml', '583.xml', '578.xml', '589.xml', '601.xml', '574.xml', '596.xml', '600.xml', '599.xml', '604.xml', '58.xml', '6.xml', '572.xml', '592.xml', '573.xml', '605.xml', '595.xml', '606.xml', '602.xml', '598.xml', '587.xml', '576.xml', '635.xml', '612.xml', '617.xml', '621.xml', '622.xml', '629.xml', '632.xml', '610.xml', '620.xml', '631.xml', '627.xml', '611.xml', '613.xml', '615.xml', '607.xml', '62.xml', '633.xml', '609.xml', '626.xml', '630.xml', '616.xml', '624.xml', '618.xml', '614.xml', '623.xml', '608.xml', '63.xml', '619.xml', '61.xml', '628.xml', '634.xml', '655.xml', '640.xml', '64.xml', '645.xml', '656.xml', '662.xml', '642.xml', '65.xml', '644.xml', '658.xml', '639.xml', '649.xml', '648.xml', '653.xml', '646.xml', '657.xml', '661.xml', '643.xml', '641.xml', '659.xml', '647.xml', '660.xml', '651.xml', '636.xml', '66.xml', '654.xml', '650.xml', '638.xml', '637.xml', '652.xml', '679.xml', '67.xml', '673.xml', '680.xml', '681.xml', '671.xml', '674.xml', '669.xml', '670.xml', '683.xml', '676.xml', '666.xml', '68.xml', '668.xml', '664.xml', '682.xml', '675.xml', '672.xml', '665.xml', '663.xml', '677.xml', '667.xml', '678.xml', '715.xml', '704.xml', '714.xml', '695.xml', '698.xml', '690.xml', '684.xml', '722.xml', '691.xml', '701.xml', '685.xml', '709.xml', '703.xml', '723.xml', '717.xml', '713.xml', '708.xml', '69.xml', '696.xml', '705.xml', '692.xml', '71.xml', '688.xml', '699.xml', '707.xml', '694.xml', '706.xml', '720.xml', '72.xml', '721.xml', '70.xml', '700.xml', '711.xml', '689.xml', '687.xml', '716.xml', '728.xml', '712.xml', '686.xml', '697.xml', '702.xml', '710.xml', '7.xml', '693.xml', '719.xml', '718.xml', '726.xml', '727.xml', '725.xml', '724.xml', '763.xml', '730.xml', '747.xml', '755.xml', '762.xml', '736.xml', '772.xml', '742.xml', '750.xml', '740.xml', '758.xml', '764.xml', '765.xml', '743.xml', '77.xml', '745.xml', '768.xml', '731.xml', '729.xml', '759.xml', '767.xml', '757.xml', '74.xml', '746.xml', '737.xml', '773.xml', '75.xml', '748.xml', '76.xml', '774.xml', '733.xml', '751.xml', '752.xml', '760.xml', '756.xml', '769.xml', '739.xml', '770.xml', '735.xml', '753.xml', '754.xml', '732.xml', '738.xml', '749.xml', '744.xml', '761.xml', '741.xml', '775.xml', '734.xml', '766.xml', '73.xml', '771.xml', '779.xml', '785.xml', '802.xml', '806.xml', '805.xml', '778.xml', '803.xml', '798.xml', '797.xml', '8.xml', '776.xml', '795.xml', '793.xml', '786.xml', '780.xml', '784.xml', '791.xml', '80.xml', '808.xml', '789.xml', '804.xml', '782.xml', '792.xml', '801.xml', '79.xml', '800.xml', '781.xml', '794.xml', '783.xml', '790.xml', '812.xml', '78.xml', '777.xml', '799.xml', '81.xml', '796.xml', '788.xml', '811.xml', '813.xml', '810.xml', '787.xml', '809.xml', '814.xml', '862.xml', '834.xml', '846.xml', '819.xml', '849.xml', '847.xml', '818.xml', '837.xml', '854.xml', '817.xml', '863.xml', '845.xml', '827.xml', '833.xml', '865.xml', '859.xml', '821.xml', '856.xml', '835.xml', '840.xml', '84.xml', '851.xml', '816.xml', '858.xml', '820.xml', '866.xml', '86.xml', '829.xml', '855.xml', '848.xml', '841.xml', '843.xml', '860.xml', '853.xml', '822.xml', '82.xml', '831.xml', '825.xml', '838.xml', '850.xml', '861.xml', '828.xml', '830.xml', '839.xml', '836.xml', '832.xml', '83.xml', '815.xml', '824.xml', '85.xml', '844.xml', '864.xml', '826.xml', '842.xml', '857.xml', '891.xml', '873.xml', '90.xml', '879.xml', '894.xml', '871.xml', '903.xml', '876.xml', '892.xml', '884.xml', '889.xml', '887.xml', '87.xml', '890.xml', '888.xml', '900.xml', '881.xml', '897.xml', '877.xml', '893.xml', '878.xml', '869.xml', '882.xml', '880.xml', '883.xml', '870.xml', '867.xml', '904.xml', '872.xml', '899.xml', '88.xml', '868.xml', '9.xml', '902.xml', '901.xml', '886.xml', '874.xml', '885.xml', '898.xml', '875.xml', '895.xml', '89.xml', '896.xml', '947.xml', '926.xml', '913.xml', '927.xml', '939.xml', '942.xml', '943.xml', '914.xml', '92.xml', '906.xml', '931.xml', '938.xml', '920.xml', '912.xml', '924.xml', '91.xml', '916.xml', '945.xml', '950.xml', '928.xml', '917.xml', '933.xml', '937.xml', '94.xml', '918.xml', '911.xml', '934.xml', '925.xml', '905.xml', '93.xml', '944.xml', '935.xml', '941.xml', '923.xml', '949.xml', '932.xml', '915.xml', '930.xml', '919.xml', '921.xml', '929.xml', '940.xml', '909.xml', '95.xml', '907.xml', '948.xml', '946.xml', '910.xml', '908.xml', '922.xml', '936.xml', '958.xml', '961.xml', '966.xml', '979.xml', '957.xml', '962.xml', '999.xml', '984.xml', '964.xml', '973.xml', '996.xml', '993.xml', '998.xml', '978.xml', '994.xml', '985.xml', '955.xml', '97.xml', '989.xml', '987.xml', '952.xml', '953.xml', '974.xml', '995.xml', '971.xml', '982.xml', '99.xml', '991.xml', '997.xml', '954.xml', '963.xml', '975.xml', '992.xml', '959.xml', '96.xml', '969.xml', '967.xml', '968.xml', '960.xml', '981.xml', '980.xml', '976.xml', '970.xml', '983.xml', '972.xml', '951.xml', '990.xml', '988.xml', '98.xml', '965.xml', '956.xml', '977.xml', '986.xml', '2782.xml', '2792.xml', '2785.xml', '2752.xml', '2754.xml', '2791.xml', '2773.xml', '2746.xml', '2778.xml', '2783.xml', '2765.xml', '2751.xml', '2790.xml', '2759.xml', '2771.xml', '2800.xml', '2808.xml', '2822.xml', '2837.xml', '2823.xml', '2797.xml', '2825.xml', '2805.xml', '2813.xml', '2815.xml', '2802.xml', '2817.xml', '2833.xml', '2840.xml', '2814.xml', '280.xml', '2829.xml', '281.xml', '2828.xml', '2832.xml', '2803.xml', '2811.xml', '2826.xml', '28.xml', '2810.xml', '2798.xml', '2818.xml', '2804.xml', '2809.xml', '2821.xml', '2834.xml', '2830.xml', '2842.xml', '2824.xml', '283.xml', '2838.xml', '2827.xml', '2819.xml', '2835.xml', '284.xml', '2841.xml', '282.xml', '2807.xml', '2812.xml', '2816.xml', '2831.xml', '2796.xml', '2820.xml', '2799.xml', '2801.xml', '2836.xml', '2806.xml', '2839.xml', '2868.xml', '2866.xml', '2861.xml', '2883.xml', '2843.xml', '2879.xml', '287.xml', '2857.xml', '2862.xml', '2876.xml', '2852.xml', '2867.xml', '2878.xml', '2858.xml', '2890.xml', '2859.xml', '2854.xml', '2877.xml', '2848.xml', '2888.xml', '2885.xml', '2855.xml', '2871.xml', '2875.xml', '2881.xml', '288.xml', '2844.xml', '2889.xml', '2882.xml', '285.xml', '2853.xml', '2869.xml', '286.xml', '2847.xml', '2873.xml', '2891.xml', '2849.xml', '2850.xml', '2856.xml', '2870.xml', '2874.xml', '2845.xml', '2865.xml', '289.xml', '2863.xml', '2886.xml', '2880.xml', '2851.xml', '2884.xml', '2860.xml', '2846.xml', '2864.xml', '2887.xml', '2917.xml', '2919.xml', '2927.xml', '2938.xml', '290.xml', '2930.xml', '2924.xml', '2912.xml', '2941.xml', '2897.xml', '2910.xml', '2936.xml', '2925.xml', '2934.xml', '2918.xml', '2908.xml', '2933.xml', '2898.xml', '2939.xml', '2905.xml', '2935.xml', '292.xml', '2904.xml', '2940.xml', '2903.xml', '294.xml', '2920.xml', '2914.xml', '2907.xml', '2928.xml', '2911.xml', '2901.xml', '2894.xml', '2892.xml', '2923.xml', '2922.xml', '2895.xml', '2944.xml', '2943.xml', '2909.xml', '2921.xml', '2893.xml', '2931.xml', '293.xml', '2899.xml', '29.xml', '2902.xml', '2932.xml', '2916.xml', '2929.xml', '2937.xml', '2926.xml', '2942.xml', '2915.xml', '2906.xml', '291.xml', '2913.xml', '2963.xml', '2994.xml', '2946.xml', '2961.xml', '2947.xml', '2952.xml', '2974.xml', '2985.xml', '2959.xml', '2964.xml', '2950.xml', '2966.xml', '2973.xml', '2971.xml', '2978.xml', '2991.xml', '2965.xml', '2968.xml', '2970.xml', '2951.xml', '2987.xml', '2945.xml', '2993.xml', '296.xml', '2977.xml', '2992.xml', '2969.xml', '2983.xml', '2976.xml', '2956.xml', '2972.xml', '2997.xml', '2989.xml', '2996.xml', '2975.xml', '299.xml', '2962.xml', '2980.xml', '2949.xml', '2988.xml', '2981.xml', '2986.xml', '298.xml', '2967.xml', '2995.xml', '2999.xml', '2955.xml', '2958.xml', '295.xml', '2954.xml', '2953.xml', '2979.xml', '2948.xml', '2957.xml', '2998.xml', '2984.xml', '2982.xml', '297.xml', '2960.xml', '3049.xml', '3033.xml', '3019.xml', '3042.xml', '3009.xml', '3024.xml', '3041.xml', '3031.xml', '305.xml', '3026.xml', '3028.xml', '3029.xml', '3006.xml', '3014.xml', '3015.xml', '3000.xml', '3008.xml', '3034.xml', '3021.xml', '3044.xml', '3037.xml', '3001.xml', '304.xml', '3018.xml', '3010.xml', '3013.xml', '3007.xml', '3050.xml', '3025.xml', '3045.xml', '3053.xml', '3016.xml', '3011.xml', '3027.xml', '3056.xml', '3002.xml', '300.xml', '301.xml', '3057.xml', '3047.xml', '30.xml', '3035.xml', '3003.xml', '3054.xml', '302.xml', '3004.xml', '3038.xml', '303.xml', '3017.xml', '3030.xml', '3052.xml', '3036.xml', '3039.xml', '3005.xml', '3032.xml', '3023.xml', '3020.xml', '3.xml', '3040.xml', '3051.xml', '3022.xml', '3046.xml', '3048.xml', '3043.xml', '3012.xml', '3071.xml', '3086.xml', '3082.xml', '3096.xml', '3072.xml', '3068.xml', '3090.xml', '3065.xml', '3092.xml', '3061.xml', '3063.xml', '3070.xml', '3078.xml', '3077.xml', '3074.xml', '3079.xml', '3081.xml', '3076.xml', '3066.xml', '3069.xml', '3091.xml', '3095.xml', '3094.xml', '3075.xml', '3060.xml', '3062.xml', '3088.xml', '3067.xml', '3093.xml', '3083.xml', '3058.xml', '3073.xml', '308.xml', '3080.xml', '307.xml', '3085.xml', '309.xml', '3089.xml', '3059.xml', '3084.xml', '3064.xml', '3087.xml', '306.xml', '3113.xml', '3114.xml', '3112.xml', '3128.xml', '3099.xml', '3108.xml', '31.xml', '3098.xml', '3120.xml', '3129.xml', '3106.xml', '3118.xml', '313.xml', '3137.xml', '3121.xml', '3117.xml', '3116.xml', '3100.xml', '3105.xml', '3134.xml', '3127.xml', '3107.xml', '3122.xml', '3119.xml', '3124.xml', '3097.xml', '3101.xml', '3123.xml', '3104.xml', '312.xml', '3135.xml', '3126.xml', '3102.xml', '310.xml', '3136.xml', '3132.xml', '3103.xml', '3111.xml', '3130.xml', '3133.xml', '3138.xml', '3131.xml', '3125.xml', '3139.xml', '3109.xml', '3110.xml', '3115.xml', '3176.xml', '314.xml', '3148.xml', '3174.xml', '3173.xml', '3149.xml', '3165.xml', '3156.xml', '3143.xml', '3155.xml', '3164.xml', '3170.xml', '3159.xml', '3150.xml', '3151.xml', '3141.xml', '3180.xml', '3166.xml', '3179.xml', '3172.xml', '3171.xml', '3177.xml', '3162.xml', '3153.xml', '3154.xml', '316.xml', '315.xml', '3152.xml', '3142.xml', '3145.xml', '3146.xml', '3167.xml', '3175.xml', '318.xml', '3163.xml', '3147.xml', '3160.xml', '317.xml', '3158.xml', '3168.xml', '3140.xml', '3157.xml', '3178.xml', '3169.xml', '3144.xml', '3198.xml', '3212.xml', '3225.xml', '3188.xml', '3195.xml', '3209.xml', '3214.xml', '3223.xml', '3201.xml', '3206.xml', '3186.xml', '3183.xml', '3221.xml', '3222.xml', '3200.xml', '3229.xml', '3210.xml', '3219.xml', '3192.xml', '3184.xml', '3207.xml', '3227.xml', '3193.xml', '3197.xml', '3181.xml', '3182.xml', '3196.xml', '3224.xml', '3220.xml', '3216.xml', '3185.xml', '3204.xml', '320.xml', '319.xml', '3187.xml', '3217.xml', '3226.xml', '3202.xml', '3230.xml', '3189.xml', '3215.xml', '3205.xml', '3191.xml', '321.xml', '3199.xml', '3218.xml', '3228.xml', '3213.xml', '3203.xml', '322.xml', '3211.xml', '32.xml', '3194.xml', '3208.xml', '3190.xml', '323.xml', '3242.xml', '3244.xml', '3233.xml', '3260.xml', '328.xml', '3231.xml', '3248.xml', '3266.xml', '3243.xml', '3254.xml', '327.xml', '3262.xml', '3261.xml', '3279.xml', '325.xml', '3245.xml', '324.xml', '3251.xml', '3263.xml', '3281.xml', '3277.xml', '3264.xml', '3269.xml', '3249.xml', '3238.xml', '3259.xml', '3232.xml', '3265.xml', '3241.xml', '3246.xml', '3239.xml', '3274.xml', '3257.xml', '3250.xml', '3282.xml', '3270.xml', '3268.xml', '3236.xml', '3252.xml', '3275.xml', '3278.xml', '3235.xml', '3267.xml', '3271.xml', '3253.xml', '3255.xml', '3240.xml', '3247.xml', '3256.xml', '3258.xml', '3280.xml', '3273.xml', '3234.xml', '3237.xml', '326.xml', '3272.xml', '3296.xml', '3312.xml', '3313.xml', '3314.xml', '332.xml', '3291.xml', '331.xml', '3330.xml', '3303.xml', '3306.xml', '3307.xml', '3326.xml', '3318.xml', '3320.xml', '3334.xml', '333.xml', '3328.xml', '3322.xml', '3288.xml', '3293.xml', '3284.xml', '3323.xml', '3309.xml', '3287.xml', '3286.xml', '3329.xml', '3325.xml', '3301.xml', '3305.xml', '3283.xml', '3300.xml', '3298.xml', '3311.xml', '3324.xml', '3333.xml', '3304.xml', '3315.xml', '3290.xml', '3292.xml', '3335.xml', '329.xml', '3337.xml', '3310.xml', '3297.xml', '3321.xml', '3336.xml', '3332.xml', '3299.xml', '3317.xml', '3331.xml', '3289.xml', '3316.xml', '3294.xml', '3319.xml', '330.xml', '3327.xml', '33.xml', '3285.xml', '3302.xml', '3371.xml', '3356.xml', '3345.xml', '3344.xml', '3364.xml', '3379.xml', '3360.xml', '3377.xml', '3342.xml', '3352.xml', '3341.xml', '3378.xml', '3348.xml', '3367.xml', '3372.xml', '3376.xml', '3365.xml', '3351.xml', '3362.xml', '335.xml', '3387.xml', '3374.xml', '3347.xml', '3349.xml', '3358.xml', '3380.xml', '3353.xml', '3338.xml', '334.xml', '3340.xml', '3366.xml', '3382.xml', '3383.xml', '3363.xml', '3361.xml', '3343.xml', '3350.xml', '3370.xml', '337.xml', '338.xml', '3346.xml', '3339.xml', '3357.xml', '3375.xml', '3368.xml', '3386.xml', '3385.xml', '3355.xml', '3381.xml', '3373.xml', '3384.xml', '3359.xml', '336.xml', '3354.xml', '3369.xml', '3417.xml', '3447.xml', '342.xml', '3414.xml', '341.xml', '3446.xml', '3393.xml', '3397.xml', '3432.xml', '3429.xml', '3394.xml', '3409.xml', '3426.xml', '3438.xml', '340.xml', '3402.xml', '3422.xml', '3433.xml', '3388.xml', '3441.xml', '3445.xml', '3435.xml', '3424.xml', '3443.xml', '343.xml', '3434.xml', '3408.xml', '3423.xml', '3421.xml', '3431.xml', '3419.xml', '3396.xml', '3389.xml', '3405.xml', '3412.xml', '339.xml', '3407.xml', '3404.xml', '3401.xml', '3398.xml', '3391.xml', '3428.xml', '3413.xml', '3444.xml', '3430.xml', '34.xml', '344.xml', '3427.xml', '3440.xml', '3410.xml', '3392.xml', '3418.xml', '3439.xml', '3403.xml', '3400.xml', '3395.xml', '3415.xml', '3416.xml', '3437.xml', '3390.xml', '3399.xml', '3436.xml', '3406.xml', '3442.xml', '3425.xml', '3411.xml', '3448.xml', '3420.xml', '3478.xml', '3488.xml', '3459.xml', '3483.xml', '3500.xml', '3489.xml', '3453.xml', '3496.xml', '3499.xml', '3487.xml', '3480.xml', '3503.xml', '3492.xml', '3462.xml', '3471.xml', '3461.xml', '3505.xml', '3464.xml', '3506.xml', '3486.xml', '3477.xml', '3479.xml', '3493.xml', '3460.xml', '3451.xml', '3457.xml', '349.xml', '3466.xml', '3472.xml', '3469.xml', '3475.xml', '3484.xml', '3495.xml', '3491.xml', '3501.xml', '3450.xml', '3485.xml', '3467.xml', '346.xml', '347.xml', '3458.xml', '3454.xml', '35.xml', '3502.xml', '3504.xml', '3468.xml', '3498.xml', '3470.xml', '3463.xml', '3497.xml', '3482.xml', '3494.xml', '3456.xml', '3474.xml', '3449.xml', '350.xml', '3465.xml', '3481.xml', '3452.xml', '3455.xml', '3476.xml', '348.xml', '3490.xml', '345.xml', '3473.xml', '3536.xml', '3507.xml', '3544.xml', '3561.xml', '352.xml', '356.xml', '3514.xml', '3515.xml', '3542.xml', '3560.xml', '3521.xml', '3525.xml', '3511.xml', '3528.xml', '3547.xml', '3551.xml', '3563.xml', '3538.xml', '3565.xml', '3548.xml', '3540.xml', '3534.xml', '3559.xml', '3516.xml', '3520.xml', '3513.xml', '3541.xml', '3532.xml', '3529.xml', '3509.xml', '3564.xml', '3566.xml', '3537.xml', '3546.xml', '3527.xml', '3510.xml', '3549.xml', '3558.xml', '351.xml', '3535.xml', '354.xml', '3524.xml', '3522.xml', '3519.xml', '3508.xml', '3526.xml', '3512.xml', '3530.xml', '3553.xml', '3550.xml', '3562.xml', '3523.xml', '3557.xml', '3533.xml', '3555.xml', '355.xml', '3531.xml', '3543.xml', '353.xml', '3545.xml', '3539.xml', '3556.xml', '3518.xml', '3552.xml', '3517.xml', '3573.xml', '3581.xml', '3592.xml', '357.xml', '3569.xml', '3596.xml', '360.xml', '36.xml', '3586.xml', '3604.xml', '3608.xml', '3582.xml', '3595.xml', '3600.xml', '3583.xml', '3590.xml', '3599.xml', '3603.xml', '3609.xml', '3584.xml', '3597.xml', '359.xml', '3593.xml', '3591.xml', '3602.xml', '3578.xml', '358.xml', '3607.xml', '3567.xml', '3601.xml', '3588.xml', '3574.xml', '3571.xml', '3610.xml', '361.xml', '3605.xml', '3570.xml', '3585.xml', '3594.xml', '3589.xml', '3572.xml', '3575.xml', '3598.xml', '3568.xml', '3577.xml', '3579.xml', '3576.xml', '3587.xml', '3606.xml', '3580.xml', '363.xml', '3635.xml', '3624.xml', '3622.xml', '3639.xml', '3633.xml', '3613.xml', '3657.xml', '3619.xml', '364.xml', '3646.xml', '3643.xml', '3658.xml', '3652.xml', '3627.xml', '3616.xml', '3636.xml', '3640.xml', '3628.xml', '3617.xml', '3614.xml', '3634.xml', '3615.xml', '3645.xml', '3620.xml', '3629.xml', '365.xml', '3637.xml', '3626.xml', '3611.xml', '3618.xml', '3647.xml', '3623.xml', '3648.xml', '3621.xml', '3641.xml', '3656.xml', '3654.xml', '3625.xml', '362.xml', '3631.xml', '3632.xml', '3642.xml', '3644.xml', '3653.xml', '3612.xml', '3655.xml', '3651.xml', '3638.xml', '3649.xml', '3630.xml', '3650.xml', '3659.xml', '3698.xml', '3696.xml', '3676.xml', '3666.xml', '3699.xml', '3683.xml', '3678.xml', '3675.xml', '3669.xml', '3692.xml', '3680.xml', '3688.xml', '3695.xml', '3701.xml', '3661.xml', '3671.xml', '3686.xml', '3672.xml', '3679.xml', '3667.xml', '3665.xml', '3673.xml', '3687.xml', '3670.xml', '3663.xml', '369.xml', '3681.xml', '3660.xml', '370.xml', '3662.xml', '3693.xml', '3668.xml', '3690.xml', '3689.xml', '3684.xml', '3700.xml', '1863.xml', '1888.xml', '1862.xml', '1870.xml', '1853.xml', '1860.xml', '1847.xml', '1869.xml', '1871.xml', '1881.xml', '186.xml', '1865.xml', '1889.xml', '1886.xml', '1866.xml', '1856.xml', '1850.xml', '188.xml', '1877.xml', '1885.xml', '1876.xml', '1861.xml', '1851.xml', '1932.xml', '1924.xml', '1929.xml', '1917.xml', '1923.xml', '190.xml', '1921.xml', '1901.xml', '1903.xml', '1915.xml', '1914.xml', '1912.xml', '1935.xml', '1931.xml', '1908.xml', '1896.xml', '1922.xml', '1913.xml', '1897.xml', '1909.xml', '1906.xml', '1910.xml', '192.xml', '1902.xml', '1905.xml', '1918.xml', '1898.xml', '1928.xml', '189.xml', '1933.xml', '1892.xml', '1899.xml', '1927.xml', '191.xml', '1907.xml', '1894.xml', '1895.xml', '19.xml', '1891.xml', '193.xml', '1890.xml', '1920.xml', '1919.xml', '1934.xml', '1904.xml', '1911.xml', '1916.xml', '1925.xml', '1900.xml', '1893.xml', '1930.xml', '1926.xml', '1943.xml', '1939.xml', '1951.xml', '1940.xml', '1963.xml', '1938.xml', '1969.xml', '1959.xml', '1946.xml', '1942.xml', '1945.xml', '1962.xml', '1960.xml', '197.xml', '1957.xml', '1971.xml', '1941.xml', '1944.xml', '195.xml', '1950.xml', '1967.xml', '1975.xml', '1964.xml', '1947.xml', '1970.xml', '1968.xml', '196.xml', '1958.xml', '1954.xml', '1972.xml', '194.xml', '1948.xml', '1949.xml', '1953.xml', '1937.xml', '1965.xml', '1973.xml', '1974.xml', '1961.xml', '1966.xml', '1952.xml', '1956.xml', '1936.xml', '202.xml', '1980.xml', '2028.xml', '1990.xml', '1994.xml', '1981.xml', '1995.xml', '1988.xml', '1997.xml', '2002.xml', '2018.xml', '1982.xml', '2033.xml', '2012.xml', '1986.xml', '2011.xml', '1991.xml', '1985.xml', '2000.xml', '1979.xml', '200.xml', '1989.xml', '20.xml', '2019.xml', '2022.xml', '2014.xml', '2024.xml', '2021.xml', '1977.xml', '1993.xml', '201.xml', '1987.xml', '2023.xml', '1976.xml', '2010.xml', '1998.xml', '2005.xml', '2026.xml', '2017.xml', '2016.xml', '2029.xml', '2025.xml', '2015.xml', '2034.xml', '2031.xml', '2008.xml', '2013.xml', '2001.xml', '1978.xml', '2006.xml', '2027.xml', '1999.xml', '2036.xml', '2020.xml', '1984.xml', '199.xml', '2035.xml', '2003.xml', '2030.xml', '2.xml', '2007.xml', '1992.xml', '1983.xml', '203.xml', '198.xml', '2032.xml', '2040.xml', '2073.xml', '2065.xml', '2071.xml', '2057.xml', '2044.xml', '2046.xml', '2038.xml', '2067.xml', '2068.xml', '205.xml', '2049.xml', '2064.xml', '2059.xml', '2058.xml', '207.xml', '2052.xml', '2063.xml', '2069.xml', '2054.xml', '2037.xml', '2053.xml', '2043.xml', '2047.xml', '2048.xml', '2039.xml', '2056.xml', '2070.xml', '2066.xml', '2055.xml', '2062.xml', '2041.xml', '2060.xml', '2045.xml', '206.xml', '2042.xml', '2061.xml', '204.xml', '2050.xml', '2072.xml', '2074.xml', '2091.xml', '2078.xml', '211.xml', '210.xml', '2116.xml', '2123.xml', '2102.xml', '2081.xml', '2085.xml', '209.xml', '2080.xml', '2087.xml', '2093.xml', '2121.xml', '2096.xml', '2120.xml', '2124.xml', '2106.xml', '2079.xml', '2127.xml', '2122.xml', '2134.xml', '212.xml', '2077.xml', '2099.xml', '2115.xml', '2128.xml', '2125.xml', '2098.xml', '2118.xml', '2094.xml', '2113.xml', '2107.xml', '2133.xml', '2075.xml', '2110.xml', '208.xml', '2131.xml', '2092.xml', '2132.xml', '2111.xml', '213.xml', '2086.xml', '2114.xml', '2089.xml', '2112.xml', '21.xml', '2105.xml', '2129.xml', '2082.xml', '2100.xml', '2109.xml', '2084.xml', '2090.xml', '2095.xml', '2135.xml', '2088.xml', '2097.xml', '2108.xml', '2119.xml', '2130.xml', '2083.xml', '2126.xml', '2117.xml', '2076.xml', '2103.xml', '2158.xml', '2152.xml', '2183.xml', '2181.xml', '2151.xml', '2162.xml', '2153.xml', '216.xml', '2144.xml', '2186.xml', '2160.xml', '2180.xml', '2142.xml', '2170.xml', '2177.xml', '2138.xml', '2167.xml', '2154.xml', '217.xml', '2143.xml', '2155.xml', '215.xml', '2178.xml', '2164.xml', '2179.xml', '2171.xml', '2149.xml', '214.xml', '2168.xml', '2137.xml', '2145.xml', '2166.xml', '2185.xml', '2159.xml', '2140.xml', '2139.xml', '2150.xml', '2148.xml', '2165.xml', '2147.xml', '2182.xml', '2136.xml', '2174.xml', '2172.xml', '2157.xml', '2169.xml', '218.xml', '2176.xml', '2184.xml', '2175.xml', '2187.xml', '2173.xml', '2156.xml', '2146.xml', '2163.xml', '2161.xml', '2141.xml', '2191.xml', '2194.xml', '2213.xml', '2238.xml', '2221.xml', '2206.xml', '2241.xml', '225.xml', '2218.xml', '2228.xml', '2199.xml', '2226.xml', '2195.xml', '2200.xml', '2222.xml', '2219.xml', '2248.xml', '2220.xml', '2235.xml', '2216.xml', '2192.xml', '2237.xml', '2215.xml', '221.xml', '2204.xml', '2203.xml', '2197.xml', '2233.xml', '2193.xml', '2214.xml', '2243.xml', '224.xml', '223.xml', '2207.xml', '2227.xml', '2209.xml', '219.xml', '2212.xml', '2230.xml', '2188.xml', '2189.xml', '2190.xml', '2196.xml', '2210.xml', '220.xml', '2245.xml', '2247.xml', '2223.xml', '2231.xml', '2234.xml', '2236.xml', '2198.xml', '22.xml', '2205.xml', '2249.xml', '2229.xml', '222.xml', '2211.xml', '2244.xml', '2232.xml', '2202.xml', '2242.xml', '2224.xml', '2201.xml', '2217.xml', '2246.xml', '2208.xml', '2239.xml', '2225.xml', '2240.xml', '226.xml', '2258.xml', '2265.xml', '2278.xml', '2266.xml', '2268.xml', '2262.xml', '2267.xml', '2290.xml', '228.xml', '2251.xml', '2280.xml', '2261.xml', '2275.xml', '2284.xml', '2250.xml', '2269.xml', '2264.xml', '2279.xml', '229.xml', '2257.xml', '2277.xml', '2289.xml', '2270.xml', '2259.xml', '2276.xml', '2273.xml', '2282.xml', '2260.xml', '2254.xml', '2252.xml', '2253.xml', '2287.xml', '2281.xml', '2285.xml', '2272.xml', '2291.xml', '2283.xml', '2271.xml', '2274.xml', '2256.xml', '2286.xml', '227.xml', '2255.xml', '2263.xml', '2288.xml', '2302.xml', '2298.xml', '2307.xml', '2294.xml', '2309.xml', '2326.xml', '2308.xml', '2312.xml', '2299.xml', '2325.xml', '2316.xml', '2293.xml', '2310.xml', '2314.xml', '2324.xml', '2295.xml', '233.xml', '2319.xml', '2304.xml', '2320.xml', '2303.xml', '2315.xml', '2327.xml', '2297.xml', '2305.xml', '2296.xml', '2300.xml', '2317.xml', '2321.xml', '2318.xml', '230.xml', '2311.xml', '2292.xml', '2313.xml', '2329.xml', '2328.xml', '2323.xml', '2301.xml', '2322.xml', '2306.xml', '23.xml', '2333.xml', '2361.xml', '2356.xml', '2337.xml', '2334.xml', '2364.xml', '2343.xml', '2362.xml', '2346.xml', '2341.xml', '235.xml', '2342.xml', '2366.xml', '234.xml', '2339.xml', '2345.xml', '2355.xml', '2353.xml', '2348.xml', '2331.xml', '2336.xml', '2344.xml', '2359.xml', '2350.xml', '2352.xml', '2338.xml', '2349.xml', '2365.xml', '2340.xml', '2347.xml', '2330.xml', '2335.xml', '2367.xml', '2354.xml', '236.xml', '2358.xml', '2363.xml', '2357.xml', '2368.xml', '2369.xml', '2332.xml', '2351.xml', '2360.xml', '2413.xml', '241.xml', '2418.xml', '2377.xml', '2409.xml', '2414.xml', '2408.xml', '2390.xml', '2402.xml', '2382.xml', '2375.xml', '2420.xml', '2412.xml', '2387.xml', '2389.xml', '2419.xml', '2404.xml', '2396.xml', '2374.xml', '2373.xml', '2399.xml', '2411.xml', '2371.xml', '2391.xml', '239.xml', '2370.xml', '2379.xml', '240.xml', '2386.xml', '242.xml', '2398.xml', '2381.xml', '2400.xml', '237.xml', '2384.xml', '2394.xml', '2401.xml', '2415.xml', '2393.xml', '2405.xml', '2403.xml', '2395.xml', '2407.xml', '2410.xml', '238.xml', '2378.xml', '24.xml', '2406.xml', '2380.xml', '2392.xml', '2397.xml', '2372.xml', '2376.xml', '2385.xml', '2388.xml', '2416.xml', '2417.xml', '2383.xml', '2426.xml', '2447.xml', '244.xml', '245.xml', '2450.xml', '2463.xml', '247.xml', '2421.xml', '2441.xml', '2437.xml', '2455.xml', '2472.xml', '2422.xml', '2423.xml', '2473.xml', '2469.xml', '2462.xml', '2458.xml', '2429.xml', '2479.xml', '2471.xml', '2474.xml', '2478.xml', '2442.xml', '2445.xml', '2468.xml', '2448.xml', '248.xml', '243.xml', '2449.xml', '2439.xml', '2425.xml', '2470.xml', '246.xml', '2480.xml', '2443.xml', '2435.xml', '2436.xml', '2452.xml', '2424.xml', '2477.xml', '2481.xml', '2453.xml', '2460.xml', '2434.xml', '2476.xml', '2466.xml', '2465.xml', '2444.xml', '2454.xml', '2467.xml', '2433.xml', '2461.xml', '2464.xml', '2457.xml', '2459.xml', '2446.xml', '2438.xml', '2451.xml', '2440.xml', '2475.xml', '2427.xml', '2431.xml', '2456.xml', '2428.xml', '2432.xml', '2430.xml', '2530.xml', '2505.xml', '2528.xml', '254.xml', '2491.xml', '2517.xml', '2482.xml', '2533.xml', '2532.xml', '2516.xml', '2538.xml', '2497.xml', '2489.xml', '2504.xml', '2502.xml', '2515.xml', '2541.xml', '2507.xml', '2512.xml', '2529.xml', '2542.xml', '252.xml', '2506.xml', '2499.xml', '2519.xml', '2536.xml', '2484.xml', '2526.xml', '2493.xml', '2535.xml', '2501.xml', '2514.xml', '2522.xml', '2513.xml', '2486.xml', '2492.xml', '25.xml', '2527.xml', '2518.xml', '253.xml', '2540.xml', '2524.xml', '2488.xml', '2537.xml', '2509.xml', '2496.xml', '2483.xml', '2490.xml', '2511.xml', '2531.xml', '2539.xml', '2521.xml', '2525.xml', '251.xml', '2494.xml', '2523.xml', '2500.xml', '2485.xml', '2510.xml', '2503.xml', '2495.xml', '2498.xml', '2520.xml', '249.xml', '2487.xml', '250.xml', '2559.xml', '2582.xml', '2547.xml', '2568.xml', '2563.xml', '2543.xml', '2546.xml', '2551.xml', '2579.xml', '2576.xml', '2583.xml', '2556.xml', '2553.xml', '2572.xml', '2566.xml', '2567.xml', '2544.xml', '2554.xml', '2574.xml', '2590.xml', '2548.xml', '2573.xml', '2560.xml', '2581.xml', '2587.xml', '2557.xml', '2570.xml', '2594.xml', '2552.xml', '2561.xml', '2586.xml', '2578.xml', '2564.xml', '2588.xml', '2591.xml', '2558.xml', '2549.xml', '259.xml', '2575.xml', '2562.xml', '2569.xml', '2545.xml', '2584.xml', '2580.xml', '255.xml', '2565.xml', '256.xml', '2550.xml', '2577.xml', '258.xml', '257.xml', '2555.xml', '2592.xml', '2589.xml', '2593.xml', '2571.xml', '2585.xml', '2599.xml', '2598.xml', '2601.xml', '2653.xml', '2613.xml', '2637.xml', '2644.xml', '2622.xml', '2628.xml', '2615.xml', '264.xml', '2612.xml', '2614.xml', '2626.xml', '2642.xml', '2654.xml', '260.xml', '2651.xml', '2624.xml', '2640.xml', '2597.xml', '2632.xml', '2606.xml', '2636.xml', '2647.xml', '2619.xml', '2620.xml', '2633.xml', '2616.xml', '2608.xml', '2655.xml', '261.xml', '2659.xml', '2645.xml', '2631.xml', '2643.xml', '2658.xml', '2600.xml', '2650.xml', '2607.xml', '2623.xml', '2634.xml', '2629.xml', '26.xml', '2652.xml', '2605.xml', '2638.xml', '2604.xml', '2630.xml', '2656.xml', '2609.xml', '2648.xml', '2618.xml', '2646.xml', '2627.xml', '2596.xml', '263.xml', '262.xml', '2602.xml', '2595.xml', '2611.xml', '265.xml', '2635.xml', '2625.xml', '2649.xml', '2657.xml', '2617.xml', '2610.xml', '2621.xml', '2639.xml', '2698.xml', '2678.xml', '268.xml', '2668.xml', '2695.xml', '2663.xml', '27.xml', '2677.xml', '2685.xml', '2693.xml', '2664.xml', '2686.xml', '2679.xml', '2684.xml', '269.xml', '270.xml', '2682.xml', '2669.xml', '2673.xml', '2700.xml', '2681.xml', '2690.xml', '2676.xml', '2666.xml', '2689.xml', '2661.xml', '2691.xml', '266.xml', '2662.xml', '2670.xml', '2694.xml', '2699.xml', '2671.xml', '2675.xml', '2696.xml', '2688.xml', '2697.xml', '2687.xml', '2692.xml', '2667.xml', '2683.xml', '2680.xml', '2665.xml', '2672.xml', '2660.xml', '267.xml', '2674.xml', '2736.xml', '2709.xml', '2702.xml', '2734.xml', '2728.xml', '2708.xml', '273.xml', '2704.xml', '2739.xml', '2742.xml', '2725.xml', '2726.xml', '2719.xml', '2718.xml', '2711.xml', '2706.xml', '2715.xml', '2721.xml', '2710.xml', '271.xml', '2713.xml', '2723.xml', '2735.xml', '2712.xml', '272.xml', '2731.xml', '2743.xml', '2741.xml', '2716.xml', '2737.xml', '2720.xml', '2738.xml', '2722.xml', '2729.xml', '2705.xml', '2730.xml', '2714.xml', '2717.xml', '2701.xml', '274.xml', '2724.xml', '2707.xml', '2727.xml', '2740.xml', '2733.xml', '2766.xml', '2753.xml', '2794.xml', '2748.xml', '2780.xml', '2749.xml', '2764.xml', '2767.xml', '2793.xml', '278.xml', '279.xml', '2781.xml', '2795.xml', '2758.xml', '2761.xml', '2787.xml', '2789.xml', '2762.xml', '2756.xml', '2760.xml', '2757.xml', '2775.xml', '2744.xml', '2779.xml', '2750.xml', '2772.xml', '2788.xml', '2763.xml', '2770.xml', '2747.xml', '2768.xml', '276.xml', '2776.xml', '2777.xml', '277.xml', '2755.xml', '2745.xml', '2769.xml', '2774.xml', '2786.xml', '275.xml', '2784.xml', '1011.xml', '1016.xml', '1015.xml', '1010.xml', '1012.xml', '1007.xml', '1002.xml', '1006.xml', '1005.xml', '101.xml', '1008.xml', '1003.xml', '1013.xml', '100.xml', '1001.xml', '1009.xml', '1004.xml', '1.xml', '1000.xml', '1014.xml', '10.xml', '1046.xml', '1044.xml', '1038.xml', '106.xml', '1052.xml', '1024.xml', '1064.xml', '1062.xml', '1059.xml', '1026.xml', '1032.xml', '1067.xml', '1050.xml', '1054.xml', '1058.xml', '1028.xml', '1037.xml', '1023.xml', '102.xml', '1056.xml', '1039.xml', '1066.xml', '1017.xml', '1030.xml', '1043.xml', '1035.xml', '1021.xml', '1047.xml', '1033.xml', '1042.xml', '1065.xml', '1053.xml', '1055.xml', '1041.xml', '1031.xml', '1063.xml', '1049.xml', '1061.xml', '1025.xml', '1048.xml', '1045.xml', '1027.xml', '1034.xml', '1060.xml', '1020.xml', '1022.xml', '1040.xml', '1051.xml', '1057.xml', '1069.xml', '1019.xml', '103.xml', '105.xml', '1068.xml', '1036.xml', '1029.xml', '104.xml', '1018.xml', '1076.xml', '1077.xml', '1084.xml', '110.xml', '1096.xml', '1073.xml', '1074.xml', '1120.xml', '1072.xml', '1083.xml', '1091.xml', '1087.xml', '1108.xml', '1086.xml', '1081.xml', '1075.xml', '1107.xml', '112.xml', '1079.xml', '1103.xml', '1093.xml', '1078.xml', '1119.xml', '1121.xml', '1090.xml', '1106.xml', '1097.xml', '1070.xml', '1115.xml', '1095.xml', '1118.xml', '1099.xml', '1071.xml', '1101.xml', '1100.xml', '1098.xml', '1104.xml', '1102.xml', '1109.xml', '1114.xml', '107.xml', '108.xml', '1082.xml', '11.xml', '1085.xml', '1094.xml', '1088.xml', '1122.xml', '1110.xml', '1116.xml', '1080.xml', '1111.xml', '111.xml', '1105.xml', '1092.xml', '1112.xml', '1089.xml', '1117.xml', '1113.xml', '1169.xml', '1156.xml', '1160.xml', '1123.xml', '1175.xml', '1124.xml', '1149.xml', '1127.xml', '1171.xml', '1130.xml', '117.xml', '1166.xml', '1147.xml', '1172.xml', '1165.xml', '1173.xml', '1143.xml', '1155.xml', '1151.xml', '1141.xml', '1135.xml', '1163.xml', '115.xml', '1128.xml', '113.xml', '1152.xml', '1136.xml', '1170.xml', '1164.xml', '1148.xml', '1139.xml', '1176.xml', '1133.xml', '1138.xml', '1161.xml', '1179.xml', '1158.xml', '1145.xml', '1134.xml', '1167.xml', '1144.xml', '1168.xml', '1150.xml', '1137.xml', '1146.xml', '114.xml', '1178.xml', '1140.xml', '1129.xml', '1159.xml', '1174.xml', '1125.xml', '1126.xml', '118.xml', '1162.xml', '1177.xml', '1131.xml', '1153.xml', '116.xml', '1154.xml', '1142.xml', '1157.xml', '1228.xml', '1223.xml', '1185.xml', '1189.xml', '1222.xml', '1226.xml', '1221.xml', '1207.xml', '1206.xml', '1200.xml', '1210.xml', '1192.xml', '1187.xml', '1180.xml', '1237.xml', '1232.xml', '1225.xml', '1229.xml', '1224.xml', '119.xml', '1217.xml', '1203.xml', '1201.xml', '1209.xml', '1184.xml', '12.xml', '1234.xml', '1190.xml', '1220.xml', '1199.xml', '1231.xml', '1197.xml', '1236.xml', '1193.xml', '1181.xml', '1215.xml', '1195.xml', '1239.xml', '1202.xml', '1212.xml', '1235.xml', '122.xml', '120.xml', '1214.xml', '1211.xml', '1218.xml', '1208.xml', '121.xml', '1233.xml', '1219.xml', '1183.xml', '1204.xml', '1196.xml', '1213.xml', '123.xml', '1238.xml', '1198.xml', '1227.xml', '1205.xml', '1188.xml', '1216.xml', '1230.xml', '1194.xml', '1182.xml', '1191.xml', '1252.xml', '1259.xml', '1276.xml', '1272.xml', '1248.xml', '1253.xml', '1275.xml', '1261.xml', '126.xml', '125.xml', '1265.xml', '1278.xml', '1243.xml', '1267.xml', '1283.xml', '1240.xml', '1241.xml', '1277.xml', '1282.xml', '1288.xml', '127.xml', '1279.xml', '1244.xml', '124.xml', '1250.xml', '1270.xml', '1289.xml', '1285.xml', '1251.xml', '1286.xml', '1287.xml', '1249.xml', '1269.xml', '1257.xml', '1281.xml', '1274.xml', '128.xml', '1256.xml', '1246.xml', '1284.xml', '1262.xml', '1254.xml', '1263.xml', '1280.xml', '1247.xml', '1273.xml', '1245.xml', '1258.xml', '1264.xml', '1268.xml', '1255.xml', '129.xml', '1260.xml', '1271.xml', '1242.xml', '1266.xml', '1317.xml', '1349.xml', '1341.xml', '1334.xml', '1321.xml', '134.xml', '1308.xml', '1304.xml', '130.xml', '1347.xml', '1346.xml', '1313.xml', '1310.xml', '13.xml', '1292.xml', '1294.xml', '1322.xml', '1293.xml', '1290.xml', '1306.xml', '1316.xml', '1323.xml', '1328.xml', '1335.xml', '1352.xml', '1305.xml', '1291.xml', '1295.xml', '1319.xml', '1315.xml', '1344.xml', '1311.xml', '1329.xml', '1343.xml', '1348.xml', '1325.xml', '1299.xml', '131.xml', '135.xml', '1320.xml', '1312.xml', '1318.xml', '1331.xml', '1345.xml', '1350.xml', '1314.xml', '1340.xml', '1327.xml', '1339.xml', '132.xml', '1333.xml', '1330.xml', '1309.xml', '1296.xml', '1338.xml', '1336.xml', '1326.xml', '1297.xml', '133.xml', '1351.xml', '1300.xml', '1324.xml', '1342.xml', '1302.xml', '1307.xml', '1337.xml', '1303.xml', '1301.xml', '1332.xml', '1367.xml', '1372.xml', '1400.xml', '1396.xml', '1368.xml', '1401.xml', '1403.xml', '1390.xml', '1358.xml', '137.xml', '1399.xml', '1386.xml', '1388.xml', '1389.xml', '1407.xml', '1378.xml', '1387.xml', '1393.xml', '1355.xml', '1381.xml', '136.xml', '1382.xml', '1362.xml', '1360.xml', '1395.xml', '1363.xml', '1376.xml', '1371.xml', '1373.xml', '1353.xml', '1397.xml', '1394.xml', '1374.xml', '1356.xml', '14.xml', '1379.xml', '1377.xml', '1405.xml', '1404.xml', '1392.xml', '1357.xml', '1384.xml', '1402.xml', '1369.xml', '1380.xml', '1366.xml', '1354.xml', '1365.xml', '1361.xml', '1385.xml', '1359.xml', '1406.xml', '1375.xml', '1370.xml', '1383.xml', '1364.xml', '138.xml', '1398.xml', '139.xml', '1391.xml', '1445.xml', '1449.xml', '1458.xml', '1413.xml', '1460.xml', '1425.xml', '1436.xml', '1456.xml', '1434.xml', '1424.xml', '1416.xml', '1452.xml', '1444.xml', '1457.xml', '1430.xml', '1408.xml', '1410.xml', '1411.xml', '1419.xml', '142.xml', '1423.xml', '1437.xml', '1446.xml', '1451.xml', '1448.xml', '1442.xml', '143.xml', '1443.xml', '146.xml', '1459.xml', '1422.xml', '1431.xml', '1441.xml', '1439.xml', '1415.xml', '1464.xml', '141.xml', '1440.xml', '1420.xml', '1417.xml', '145.xml', '1450.xml', '1447.xml', '1427.xml', '144.xml', '1428.xml', '1409.xml', '1462.xml', '1429.xml', '1426.xml', '1432.xml', '1421.xml', '1438.xml', '1412.xml', '1453.xml', '1454.xml', '1463.xml', '1418.xml', '1455.xml', '1414.xml', '1435.xml', '1433.xml', '1461.xml', '1494.xml', '1499.xml', '1467.xml', '150.xml', '1482.xml', '1500.xml', '1470.xml', '1477.xml', '1491.xml', '15.xml', '1496.xml', '1479.xml', '1472.xml', '1484.xml', '1498.xml', '1469.xml', '1473.xml', '147.xml', '149.xml', '1487.xml', '1466.xml', '1475.xml', '1497.xml', '1471.xml', '1478.xml', '1492.xml', '1483.xml', '1489.xml', '1474.xml', '1465.xml', '1476.xml', '1493.xml', '1488.xml', '1480.xml', '1468.xml', '1485.xml', '1481.xml', '1528.xml', '1520.xml', '1514.xml', '1539.xml', '1505.xml', '1555.xml', '1542.xml', '1540.xml', '1518.xml', '1502.xml', '1544.xml', '1557.xml', '1548.xml', '1509.xml', '1554.xml', '1522.xml', '1508.xml', '1535.xml', '1546.xml', '1501.xml', '1512.xml', '1530.xml', '1550.xml', '1525.xml', '1504.xml', '1547.xml', '1519.xml', '1506.xml', '1523.xml', '1516.xml', '1517.xml', '155.xml', '1541.xml', '1521.xml', '1524.xml', '1531.xml', '1537.xml', '1538.xml', '1549.xml', '152.xml', '153.xml', '1529.xml', '151.xml', '1503.xml', '1552.xml', '1511.xml', '1551.xml', '1536.xml', '1545.xml', '1513.xml', '1534.xml', '1558.xml', '1543.xml', '1527.xml', '1515.xml', '154.xml', '1510.xml', '1556.xml', '1553.xml', '1526.xml', '1532.xml', '1533.xml', '1566.xml', '1562.xml', '1588.xml', '1598.xml', '1579.xml', '1583.xml', '1559.xml', '1577.xml', '159.xml', '1592.xml', '1580.xml', '157.xml', '1602.xml', '1585.xml', '1572.xml', '1596.xml', '1568.xml', '1603.xml', '1581.xml', '158.xml', '1599.xml', '1590.xml', '1561.xml', '1597.xml', '1582.xml', '1576.xml', '1601.xml', '1595.xml', '1589.xml', '1584.xml', '1600.xml', '1571.xml', '1567.xml', '160.xml', '1591.xml', '1594.xml', '1573.xml', '1575.xml', '1587.xml', '1563.xml', '1565.xml', '1578.xml', '1564.xml', '1593.xml', '1586.xml', '1574.xml', '16.xml', '156.xml', '1569.xml', '1560.xml', '1570.xml', '1623.xml', '1644.xml', '1632.xml', '1652.xml', '1615.xml', '1639.xml', '161.xml', '1606.xml', '1614.xml', '1640.xml', '1649.xml', '1648.xml', '1647.xml', '1633.xml', '1655.xml', '1645.xml', '1651.xml', '1604.xml', '1627.xml', '1642.xml', '1618.xml', '1620.xml', '1619.xml', '1657.xml', '1605.xml', '1630.xml', '1659.xml', '1612.xml', '1635.xml', '1616.xml', '1626.xml', '1624.xml', '1622.xml', '1621.xml', '1634.xml', '163.xml', '1625.xml', '1650.xml', '1636.xml', '1654.xml', '1607.xml', '1613.xml', '1658.xml', '165.xml', '1638.xml', '1629.xml', '1656.xml', '1610.xml', '1653.xml', '1643.xml', '1617.xml', '1637.xml', '164.xml', '1609.xml', '1628.xml', '1646.xml', '1608.xml', '162.xml', '1631.xml', '1641.xml', '1679.xml', '1694.xml', '1690.xml', '1696.xml', '1664.xml', '1683.xml', '1691.xml', '1667.xml', '1675.xml', '1672.xml', '1668.xml', '1669.xml', '1661.xml', '1674.xml', '1673.xml', '1687.xml', '1660.xml', '1682.xml', '1666.xml', '166.xml', '1671.xml', '1680.xml', '1697.xml', '1692.xml', '167.xml', '169.xml', '1662.xml', '1685.xml', '1698.xml', '1665.xml', '168.xml', '1676.xml', '1681.xml', '1689.xml', '1684.xml', '1670.xml', '1686.xml', '1678.xml', '1695.xml', '1677.xml', '1663.xml', '1693.xml', '1688.xml', '1700.xml', '1734.xml', '1714.xml', '1722.xml', '1718.xml', '1731.xml', '1728.xml', '1721.xml', '174.xml', '1737.xml', '1739.xml', '1740.xml', '172.xml', '1703.xml', '170.xml', '1736.xml', '1726.xml', '1741.xml', '1711.xml', '1706.xml', '1732.xml', '1727.xml', '1704.xml', '1717.xml', '1716.xml', '1712.xml', '1709.xml', '1725.xml', '1720.xml', '1733.xml', '1730.xml', '1710.xml', '1708.xml', '17.xml', '1723.xml', '1701.xml', '171.xml', '1724.xml', '1729.xml', '1699.xml', '1702.xml', '1707.xml', '1715.xml', '1713.xml', '173.xml', '1705.xml', '1738.xml', '1719.xml', '1735.xml', '1765.xml', '1775.xml', '1745.xml', '1773.xml', '1791.xml', '1781.xml', '179.xml', '1769.xml', '1782.xml', '1780.xml', '1763.xml', '1776.xml', '1747.xml', '1752.xml', '1742.xml', '1744.xml', '1759.xml', '178.xml', '1762.xml', '177.xml', '1777.xml', '1786.xml', '1790.xml', '1778.xml', '1789.xml', '1768.xml', '1750.xml', '1779.xml', '1761.xml', '1788.xml', '1754.xml', '1756.xml', '1783.xml', '1767.xml', '1753.xml', '1748.xml', '1770.xml', '1746.xml', '1792.xml', '1784.xml', '1772.xml', '1771.xml', '1785.xml', '1764.xml', '1757.xml', '1743.xml', '1766.xml', '1751.xml', '1758.xml', '1787.xml', '1749.xml', '175.xml', '1760.xml', '176.xml', '1774.xml', '1755.xml', '1811.xml', '1815.xml', '1810.xml', '1834.xml', '1825.xml', '1796.xml', '1830.xml', '1827.xml', '1833.xml', '1817.xml', '183.xml', '1822.xml', '1824.xml', '181.xml', '1841.xml', '1831.xml', '1829.xml', '182.xml', '1795.xml', '1801.xml', '1800.xml', '1826.xml', '1814.xml', '1840.xml', '1821.xml', '1813.xml', '1839.xml', '1802.xml', '1805.xml', '1804.xml', '1797.xml', '1803.xml', '180.xml', '1820.xml', '1812.xml', '1836.xml', '1794.xml', '1818.xml', '1823.xml', '1837.xml', '1816.xml', '1799.xml', '1807.xml', '18.xml', '184.xml', '1832.xml', '1819.xml', '1835.xml', '1808.xml', '1828.xml', '1809.xml', '1798.xml', '1806.xml', '1793.xml', '1838.xml', '1848.xml', '1852.xml', '1880.xml', '1868.xml', '1843.xml', '1846.xml', '1883.xml', '1882.xml', '1845.xml', '1874.xml', '1884.xml', '1849.xml', '1859.xml', '1873.xml', '1844.xml', '1878.xml', '1879.xml', '1872.xml', '1842.xml', '187.xml', '1857.xml', '1858.xml', '1854.xml', '1855.xml', '1875.xml', '1887.xml', '1864.xml', '1867.xml', '185.xml']\n",
      "3955\n"
     ]
    }
   ],
   "source": [
    "# This code is used to read the xml file and then put it into an array\n",
    "xml_files = os.listdir(txt_path)\n",
    "\n",
    "# validating the desired results\n",
    "print(xml_files)\n",
    "print(len(xml_files))"
   ]
  },
  {
   "cell_type": "code",
   "execution_count": null,
   "metadata": {
    "colab": {
     "base_uri": "https://localhost:8080/",
     "height": 36
    },
    "id": "qq4hzCkXpDcG",
    "outputId": "5387b53e-c4da-4d93-a5f6-c1f2e0bbe60d"
   },
   "outputs": [
    {
     "name": "stderr",
     "output_type": "stream",
     "text": [
      "100%|██████████| 3955/3955 [00:27<00:00, 144.74it/s]\n"
     ]
    }
   ],
   "source": [
    "# now lets read each xml file and create a dataframe fron the data \n",
    "\n",
    "# rows th the dataframe\n",
    "# 1. UID : The unique file id for each xml file\n",
    "# 2. FINDINGS : The findings that the doctor writes after viewing the x-rays of the patient\n",
    "# 3. Impressions : The final diagnosys that the doctor writes \n",
    "# 4. IMAGES : The list of images that are associated with a report\n",
    "\n",
    "# This list will be used to used store the contents of each xml file\n",
    "rows_list = []\n",
    "for xmlfile in tqdm(xml_files):\n",
    "    # file path stores the path of the xml files\n",
    "    filepath = txt_path + '/' + xmlfile\n",
    "    # this dict is used to contents of a xml file as {tag: value}\n",
    "    dict_row = {}\n",
    "    with open(filepath, \"r\") as f:\n",
    "        # reading the file\n",
    "        contents = f.read()\n",
    "        # here we use lxml to parse the contents of xml file\n",
    "        soup = BeautifulSoup(contents, 'lxml')\n",
    "        # this piece of code is used to find the id associated with each file\n",
    "        uid_tags = soup.findAll('uid')\n",
    "        # extract the uid from tag and put the uid in the directory\n",
    "        # this piece of code will check if there are more than one uids in the xml\n",
    "        cnt = 0\n",
    "        for ut in uid_tags:\n",
    "            # increase cnt value\n",
    "            cnt +=1\n",
    "            # check if more than one ids are present\n",
    "            if cnt > 1:\n",
    "                # prit and break\n",
    "                print('more than one ids')\n",
    "                break\n",
    "            # get the uid value\n",
    "            file_id = ut.get('id')\n",
    "            # put the value in the directory\n",
    "            dict_row['UID'] = file_id\n",
    "        # this piece of code extracts the text from the xml file where the tag is abstracttext  \n",
    "        tags = soup.findAll(['abstracttext'])\n",
    "        for t in tags:\n",
    "            # extract labels\n",
    "            label=t.get(\"label\")\n",
    "\n",
    "            # extract the FINDINGS \n",
    "            if label=='FINDINGS':\n",
    "                f_text=t.text\n",
    "                # put the values in a directory \n",
    "                dict_row['FINDINGS'] = f_text\n",
    "                #lets add the no. of sentences \n",
    "                # first we need to add a fullstop to the end in case the doctor forgot to put it\n",
    "                f_text = f_text + '.'\n",
    "                f_sen = f_text.split('.')\n",
    "                # array to store the sentences\n",
    "                sent_arr = []\n",
    "                for sent in f_sen:\n",
    "                    # check if the sentence is blank\n",
    "                    if sent != '':\n",
    "                        # append the array\n",
    "                        sent_arr.append(sent)\n",
    "                # find no. of sentences \n",
    "                ns_findings = len(sent_arr)\n",
    "                # add f_sen to the directory\n",
    "                dict_row['NS_FINDINGS'] = ns_findings\n",
    "            \n",
    "            # extract the IMPRESSION \n",
    "            if label=='IMPRESSION':\n",
    "                i_text=t.text\n",
    "                # put the values in a directory \n",
    "                dict_row['IMPRESSION'] = i_text\n",
    "                # lets add the no. of sentences \n",
    "                # first we need to add a fullstop to the end in case the doctor forgot to put it\n",
    "                i_text = i_text + '.'\n",
    "                i_sen = i_text.split('.')\n",
    "                # array to store the sentences\n",
    "                sent_arr = []\n",
    "                for sent in i_sen:\n",
    "                    # check if the sentence is blank\n",
    "                    if sent != '':\n",
    "                        # append the array\n",
    "                        sent_arr.append(sent)\n",
    "                # find no. of sentences \n",
    "                ns_impression = len(sent_arr)\n",
    "                # add f_sen to the directory\n",
    "                dict_row['NS_IMPRESSION'] = ns_impression\n",
    "\n",
    "        # This piece of code will extract the image names from the XML files\n",
    "        itags = soup.findAll(['parentimage'])\n",
    "        # this array will hold the images in a xml file as there are more than one images in a xml file\n",
    "        x_ray_images = []\n",
    "        # for each image in the file we will put it in the array\n",
    "        for element in itags:\n",
    "            # extract the image name from the file\n",
    "            x_ray = element.get('id')\n",
    "            # append the array\n",
    "            x_ray_images.append(x_ray)\n",
    "        #finally put the array in the row dict\n",
    "        dict_row['IMAGES'] = x_ray_images\n",
    "        # lets find the no of images in a xml file\n",
    "        no_images = len(x_ray_images)\n",
    "        # add this to the dict\n",
    "        dict_row['NO_IMAGES'] = no_images\n",
    "\n",
    "    # append the dict to the row (for each xml file we will have a dict_row(dict of data) in the rows_list)\n",
    "    rows_list.append(dict_row)\n",
    "\n",
    "# finally create a dataframe from the rows_list\n",
    "df = pd.DataFrame(rows_list)       "
   ]
  },
  {
   "cell_type": "code",
   "execution_count": null,
   "metadata": {
    "colab": {
     "base_uri": "https://localhost:8080/",
     "height": 545
    },
    "id": "yIuahCSR-mXl",
    "outputId": "c8128aad-65db-4cce-f950-71128222cde5"
   },
   "outputs": [
    {
     "name": "stdout",
     "output_type": "stream",
     "text": [
      "(3955, 7)\n"
     ]
    },
    {
     "data": {
      "text/html": [
       "<div>\n",
       "<style scoped>\n",
       "    .dataframe tbody tr th:only-of-type {\n",
       "        vertical-align: middle;\n",
       "    }\n",
       "\n",
       "    .dataframe tbody tr th {\n",
       "        vertical-align: top;\n",
       "    }\n",
       "\n",
       "    .dataframe thead th {\n",
       "        text-align: right;\n",
       "    }\n",
       "</style>\n",
       "<table border=\"1\" class=\"dataframe\">\n",
       "  <thead>\n",
       "    <tr style=\"text-align: right;\">\n",
       "      <th></th>\n",
       "      <th>UID</th>\n",
       "      <th>FINDINGS</th>\n",
       "      <th>NS_FINDINGS</th>\n",
       "      <th>IMPRESSION</th>\n",
       "      <th>NS_IMPRESSION</th>\n",
       "      <th>IMAGES</th>\n",
       "      <th>NO_IMAGES</th>\n",
       "    </tr>\n",
       "  </thead>\n",
       "  <tbody>\n",
       "    <tr>\n",
       "      <th>0</th>\n",
       "      <td>CXR3691</td>\n",
       "      <td>The heart is normal in size. The mediastinum i...</td>\n",
       "      <td>5</td>\n",
       "      <td>No acute disease.</td>\n",
       "      <td>1</td>\n",
       "      <td>[CXR3691_IM-1842-1001, CXR3691_IM-1842-3003]</td>\n",
       "      <td>2</td>\n",
       "    </tr>\n",
       "    <tr>\n",
       "      <th>1</th>\n",
       "      <td>CXR3697</td>\n",
       "      <td>The cardiomediastinal silhouette is stable in ...</td>\n",
       "      <td>5</td>\n",
       "      <td>1. No acute cardiopulmonary findings. 2. Exten...</td>\n",
       "      <td>4</td>\n",
       "      <td>[CXR3697_IM-1846-1001, CXR3697_IM-1846-2001]</td>\n",
       "      <td>2</td>\n",
       "    </tr>\n",
       "    <tr>\n",
       "      <th>2</th>\n",
       "      <td>CXR3682</td>\n",
       "      <td>The lungs are hypoventilated. There is no foca...</td>\n",
       "      <td>4</td>\n",
       "      <td>No acute cardiopulmonary abnormality.</td>\n",
       "      <td>1</td>\n",
       "      <td>[CXR3682_IM-1834-1001, CXR3682_IM-1834-2001]</td>\n",
       "      <td>2</td>\n",
       "    </tr>\n",
       "    <tr>\n",
       "      <th>3</th>\n",
       "      <td>CXR3674</td>\n",
       "      <td></td>\n",
       "      <td>0</td>\n",
       "      <td>No comparison chest x-XXXX. Well-expanded and ...</td>\n",
       "      <td>4</td>\n",
       "      <td>[CXR3674_IM-1829-0001-0001, CXR3674_IM-1829-00...</td>\n",
       "      <td>2</td>\n",
       "    </tr>\n",
       "    <tr>\n",
       "      <th>4</th>\n",
       "      <td>CXR3685</td>\n",
       "      <td>Calcified thoracic aorta. Mild rightward devia...</td>\n",
       "      <td>6</td>\n",
       "      <td>No acute cardiopulmonary findings.</td>\n",
       "      <td>1</td>\n",
       "      <td>[CXR3685_IM-1836-1001, CXR3685_IM-1836-1002]</td>\n",
       "      <td>2</td>\n",
       "    </tr>\n",
       "    <tr>\n",
       "      <th>5</th>\n",
       "      <td>CXR37</td>\n",
       "      <td>The heart is normal in size. The mediastinum i...</td>\n",
       "      <td>4</td>\n",
       "      <td>No acute disease.</td>\n",
       "      <td>1</td>\n",
       "      <td>[CXR37_IM-1847-0001-0001, CXR37_IM-1847-0001-0...</td>\n",
       "      <td>2</td>\n",
       "    </tr>\n",
       "    <tr>\n",
       "      <th>6</th>\n",
       "      <td>CXR3703</td>\n",
       "      <td>The XXXX examination consists of frontal and l...</td>\n",
       "      <td>6</td>\n",
       "      <td>No evidence of acute cardiopulmonary process.</td>\n",
       "      <td>1</td>\n",
       "      <td>[CXR3703_IM-1850-1001, CXR3703_IM-1850-2001]</td>\n",
       "      <td>2</td>\n",
       "    </tr>\n",
       "    <tr>\n",
       "      <th>7</th>\n",
       "      <td>CXR3702</td>\n",
       "      <td>Lungs are overall hyperexpanded with flattenin...</td>\n",
       "      <td>7</td>\n",
       "      <td>Clear lungs.</td>\n",
       "      <td>1</td>\n",
       "      <td>[CXR3702_IM-1849-22001, CXR3702_IM-1849-23001]</td>\n",
       "      <td>2</td>\n",
       "    </tr>\n",
       "    <tr>\n",
       "      <th>8</th>\n",
       "      <td>CXR3694</td>\n",
       "      <td>Interval removal of left-sided chest tube. Sma...</td>\n",
       "      <td>6</td>\n",
       "      <td>No acute cardiopulmonary abnormality.</td>\n",
       "      <td>1</td>\n",
       "      <td>[CXR3694_IM-1845-1001, CXR3694_IM-1845-2001]</td>\n",
       "      <td>2</td>\n",
       "    </tr>\n",
       "    <tr>\n",
       "      <th>9</th>\n",
       "      <td>CXR3664</td>\n",
       "      <td>There are no acute osseous abnormalities. Soft...</td>\n",
       "      <td>4</td>\n",
       "      <td>1. No acute radiographic cardiopulmonary process.</td>\n",
       "      <td>2</td>\n",
       "      <td>[CXR3664_IM-1822-1001, CXR3664_IM-1822-2001]</td>\n",
       "      <td>2</td>\n",
       "    </tr>\n",
       "  </tbody>\n",
       "</table>\n",
       "</div>"
      ],
      "text/plain": [
       "       UID  ... NO_IMAGES\n",
       "0  CXR3691  ...         2\n",
       "1  CXR3697  ...         2\n",
       "2  CXR3682  ...         2\n",
       "3  CXR3674  ...         2\n",
       "4  CXR3685  ...         2\n",
       "5    CXR37  ...         2\n",
       "6  CXR3703  ...         2\n",
       "7  CXR3702  ...         2\n",
       "8  CXR3694  ...         2\n",
       "9  CXR3664  ...         2\n",
       "\n",
       "[10 rows x 7 columns]"
      ]
     },
     "execution_count": 8,
     "metadata": {
      "tags": []
     },
     "output_type": "execute_result"
    }
   ],
   "source": [
    "print(df.shape)\n",
    "df.head(10)"
   ]
  },
  {
   "cell_type": "markdown",
   "metadata": {
    "id": "clE4b11k0c9L"
   },
   "source": [
    "## Data Cleaning"
   ]
  },
  {
   "cell_type": "code",
   "execution_count": null,
   "metadata": {
    "id": "NYrkMDMQ0jVe"
   },
   "outputs": [],
   "source": [
    "# In this section we will perform preliminary data cleaning\n",
    "# This function will be used to expand the shortened words\n",
    "def decontracted(phrase):\n",
    "    #lower case\n",
    "    phrase = phrase.lower()\n",
    "    # specific\n",
    "    phrase = re.sub(r\"won't\", \"will not\", phrase)\n",
    "    phrase = re.sub(r\"can\\'t\", \"can not\", phrase)\n",
    "    # general\n",
    "    phrase = re.sub(r\"n\\'t\", \" not\", phrase)\n",
    "    phrase = re.sub(r\"\\'re\", \" are\", phrase)\n",
    "    phrase = re.sub(r\"\\'s\", \" is\", phrase)\n",
    "    phrase = re.sub(r\"\\'d\", \" would\", phrase)\n",
    "    phrase = re.sub(r\"\\'ll\", \" will\", phrase)\n",
    "    phrase = re.sub(r\"\\'t\", \" not\", phrase)\n",
    "    phrase = re.sub(r\"\\'ve\", \" have\", phrase)\n",
    "    phrase = re.sub(r\"\\'m\", \" am\", phrase)\n",
    "    return phrase\n",
    "\n",
    "# declaring the stopwords\n",
    "stopwords= ['i', 'me', 'my', 'myself', 'we', 'our', 'ours', 'ourselves', 'you', \"you're\", \"you've\",\\\n",
    "    \"you'll\", \"you'd\", 'your', 'yours', 'yourself', 'yourselves', 'he', 'him', 'his', 'himself', \\\n",
    "    'she', \"she's\", 'her', 'hers', 'herself', 'it', \"it's\", 'its', 'itself', 'they', 'them', 'their',\\\n",
    "    'theirs', 'themselves', 'what', 'which', 'who', 'whom', 'this', 'that', \"that'll\", 'these', 'those', \\\n",
    "    'am', 'is', 'are', 'was', 'were', 'be', 'been', 'being', 'have', 'has', 'had', 'having', 'do', 'does', \\\n",
    "    'did', 'doing', 'a', 'an', 'the', 'and', 'but', 'if', 'or', 'because', 'as', 'until', 'while', 'of', \\\n",
    "    'at', 'by', 'for', 'with', 'about', 'against', 'between', 'into', 'through', 'during', 'before', 'after',\\\n",
    "    'above', 'below', 'to', 'from', 'up', 'down', 'in', 'out', 'on', 'off', 'over', 'under', 'again', 'further',\\\n",
    "    'then', 'once', 'here', 'there', 'when', 'where', 'why', 'how', 'all', 'any', 'both', 'each', 'few', 'more',\\\n",
    "    'most', 'other', 'some', 'such', 'only', 'own', 'same', 'so', 'than', 'too', 'very', \\\n",
    "    's', 't', 'can', 'will', 'just', 'don', \"don't\", 'should', \"should've\", 'now', 'd', 'll', 'm', 'o', 're', \\\n",
    "    've', 'y', 'ain', 'aren', \"aren't\", 'couldn', \"couldn't\", 'didn', \"didn't\", 'doesn', \"doesn't\", 'hadn',\\\n",
    "    \"hadn't\", 'hasn', \"hasn't\", 'haven', \"haven't\", 'isn', \"isn't\", 'ma', 'mightn', \"mightn't\", 'mustn',\\\n",
    "    \"mustn't\", 'needn', \"needn't\", 'shan', \"shan't\", 'shouldn', \"shouldn't\", 'wasn', \"wasn't\", 'weren', \"weren't\", \\\n",
    "    'won', \"won't\", 'wouldn', \"wouldn't\"]\n"
   ]
  },
  {
   "cell_type": "code",
   "execution_count": null,
   "metadata": {
    "colab": {
     "base_uri": "https://localhost:8080/",
     "height": 55
    },
    "id": "xi8YDpvj0jRD",
    "outputId": "f3f02fa8-1869-4803-872b-dca6638cfba6"
   },
   "outputs": [
    {
     "name": "stderr",
     "output_type": "stream",
     "text": [
      "100%|██████████| 3955/3955 [00:00<00:00, 11548.51it/s]\n",
      "100%|██████████| 3955/3955 [00:00<00:00, 24661.59it/s]\n"
     ]
    }
   ],
   "source": [
    "# this piece of code is used for cleaning the findings\n",
    "cleaned_findings = []\n",
    "# tqdm is for printing the status bar\n",
    "for sentance in tqdm(df['FINDINGS'].values):\n",
    "    sent = decontracted(sentance)\n",
    "    sent = sent.replace('\\\\r', ' ')\n",
    "    sent = sent.replace('\\\\\"', ' ')\n",
    "    sent = sent.replace('\\\\n', ' ')\n",
    "    sent = sent.replace('x', '')\n",
    "    sent = sent.replace('_', '')\n",
    "    sent = sent.replace('-', '')\n",
    "    sent = sent.replace('<br>', ' ')\n",
    "    sent = re.sub('[^A-Za-z0-9]+', ' ', sent)\n",
    "    sent = ' '.join(e for e in sent.split() if e not in stopwords)\n",
    "    cleaned_findings.append(sent.lower().strip())\n",
    "\n",
    "# this piece of code is used for cleaning the impression\n",
    "cleaned_impression = []\n",
    "# tqdm is for printing the status bar\n",
    "for sentance in tqdm(df['IMPRESSION'].values):\n",
    "    sent = decontracted(sentance)\n",
    "    sent = sent.replace('\\\\r', ' ')\n",
    "    sent = sent.replace('\\\\\"', ' ')\n",
    "    sent = sent.replace('\\\\n', ' ')\n",
    "    sent = sent.replace('x', '')\n",
    "    sent = sent.replace('_', '')\n",
    "    sent = sent.replace('-', '')\n",
    "    sent = sent.replace('<br>', ' ')\n",
    "    sent = re.sub('[^A-Za-z0-9]+', ' ', sent)\n",
    "    sent = ' '.join(e for e in sent.split() if e not in stopwords)\n",
    "    cleaned_impression.append(sent.lower().strip())\n",
    "    \n",
    "# adding the cleaned features to the dataframe\n",
    "df['CLEANED_FINDINGS'] = cleaned_findings\n",
    "df['CLEANED_IMPRESSION'] = cleaned_impression"
   ]
  },
  {
   "cell_type": "code",
   "execution_count": null,
   "metadata": {
    "colab": {
     "base_uri": "https://localhost:8080/",
     "height": 935
    },
    "id": "cz-yObJu0jN7",
    "outputId": "0d1da678-0d4c-4f28-f055-97b41dd6814f"
   },
   "outputs": [
    {
     "data": {
      "text/html": [
       "<div>\n",
       "<style scoped>\n",
       "    .dataframe tbody tr th:only-of-type {\n",
       "        vertical-align: middle;\n",
       "    }\n",
       "\n",
       "    .dataframe tbody tr th {\n",
       "        vertical-align: top;\n",
       "    }\n",
       "\n",
       "    .dataframe thead th {\n",
       "        text-align: right;\n",
       "    }\n",
       "</style>\n",
       "<table border=\"1\" class=\"dataframe\">\n",
       "  <thead>\n",
       "    <tr style=\"text-align: right;\">\n",
       "      <th></th>\n",
       "      <th>UID</th>\n",
       "      <th>FINDINGS</th>\n",
       "      <th>NS_FINDINGS</th>\n",
       "      <th>IMPRESSION</th>\n",
       "      <th>NS_IMPRESSION</th>\n",
       "      <th>IMAGES</th>\n",
       "      <th>NO_IMAGES</th>\n",
       "      <th>CLEANED_FINDINGS</th>\n",
       "      <th>CLEANED_IMPRESSION</th>\n",
       "    </tr>\n",
       "  </thead>\n",
       "  <tbody>\n",
       "    <tr>\n",
       "      <th>0</th>\n",
       "      <td>CXR3691</td>\n",
       "      <td>The heart is normal in size. The mediastinum i...</td>\n",
       "      <td>5</td>\n",
       "      <td>No acute disease.</td>\n",
       "      <td>1</td>\n",
       "      <td>[CXR3691_IM-1842-1001, CXR3691_IM-1842-3003]</td>\n",
       "      <td>2</td>\n",
       "      <td>heart normal size mediastinum stable atheroscl...</td>\n",
       "      <td>no acute disease</td>\n",
       "    </tr>\n",
       "    <tr>\n",
       "      <th>1</th>\n",
       "      <td>CXR3697</td>\n",
       "      <td>The cardiomediastinal silhouette is stable in ...</td>\n",
       "      <td>5</td>\n",
       "      <td>1. No acute cardiopulmonary findings. 2. Exten...</td>\n",
       "      <td>4</td>\n",
       "      <td>[CXR3697_IM-1846-1001, CXR3697_IM-1846-2001]</td>\n",
       "      <td>2</td>\n",
       "      <td>cardiomediastinal silhouette stable appearance...</td>\n",
       "      <td>no acute cardiopulmonary findings etensive fib...</td>\n",
       "    </tr>\n",
       "    <tr>\n",
       "      <th>2</th>\n",
       "      <td>CXR3682</td>\n",
       "      <td>The lungs are hypoventilated. There is no foca...</td>\n",
       "      <td>4</td>\n",
       "      <td>No acute cardiopulmonary abnormality.</td>\n",
       "      <td>1</td>\n",
       "      <td>[CXR3682_IM-1834-1001, CXR3682_IM-1834-2001]</td>\n",
       "      <td>2</td>\n",
       "      <td>lungs hypoventilated no focal airspace opacity...</td>\n",
       "      <td>no acute cardiopulmonary abnormality</td>\n",
       "    </tr>\n",
       "    <tr>\n",
       "      <th>3</th>\n",
       "      <td>CXR3674</td>\n",
       "      <td></td>\n",
       "      <td>0</td>\n",
       "      <td>No comparison chest x-XXXX. Well-expanded and ...</td>\n",
       "      <td>4</td>\n",
       "      <td>[CXR3674_IM-1829-0001-0001, CXR3674_IM-1829-00...</td>\n",
       "      <td>2</td>\n",
       "      <td></td>\n",
       "      <td>no comparison chest wellepanded clear lungs me...</td>\n",
       "    </tr>\n",
       "    <tr>\n",
       "      <th>4</th>\n",
       "      <td>CXR3685</td>\n",
       "      <td>Calcified thoracic aorta. Mild rightward devia...</td>\n",
       "      <td>6</td>\n",
       "      <td>No acute cardiopulmonary findings.</td>\n",
       "      <td>1</td>\n",
       "      <td>[CXR3685_IM-1836-1001, CXR3685_IM-1836-1002]</td>\n",
       "      <td>2</td>\n",
       "      <td>calcified thoracic aorta mild rightward deviat...</td>\n",
       "      <td>no acute cardiopulmonary findings</td>\n",
       "    </tr>\n",
       "    <tr>\n",
       "      <th>5</th>\n",
       "      <td>CXR37</td>\n",
       "      <td>The heart is normal in size. The mediastinum i...</td>\n",
       "      <td>4</td>\n",
       "      <td>No acute disease.</td>\n",
       "      <td>1</td>\n",
       "      <td>[CXR37_IM-1847-0001-0001, CXR37_IM-1847-0001-0...</td>\n",
       "      <td>2</td>\n",
       "      <td>heart normal size mediastinum unremarkable opa...</td>\n",
       "      <td>no acute disease</td>\n",
       "    </tr>\n",
       "    <tr>\n",
       "      <th>6</th>\n",
       "      <td>CXR3703</td>\n",
       "      <td>The XXXX examination consists of frontal and l...</td>\n",
       "      <td>6</td>\n",
       "      <td>No evidence of acute cardiopulmonary process.</td>\n",
       "      <td>1</td>\n",
       "      <td>[CXR3703_IM-1850-1001, CXR3703_IM-1850-2001]</td>\n",
       "      <td>2</td>\n",
       "      <td>eamination consists frontal lateral radiograph...</td>\n",
       "      <td>no evidence acute cardiopulmonary process</td>\n",
       "    </tr>\n",
       "    <tr>\n",
       "      <th>7</th>\n",
       "      <td>CXR3702</td>\n",
       "      <td>Lungs are overall hyperexpanded with flattenin...</td>\n",
       "      <td>7</td>\n",
       "      <td>Clear lungs.</td>\n",
       "      <td>1</td>\n",
       "      <td>[CXR3702_IM-1849-22001, CXR3702_IM-1849-23001]</td>\n",
       "      <td>2</td>\n",
       "      <td>lungs overall hyperepanded flattening diaphrag...</td>\n",
       "      <td>clear lungs</td>\n",
       "    </tr>\n",
       "    <tr>\n",
       "      <th>8</th>\n",
       "      <td>CXR3694</td>\n",
       "      <td>Interval removal of left-sided chest tube. Sma...</td>\n",
       "      <td>6</td>\n",
       "      <td>No acute cardiopulmonary abnormality.</td>\n",
       "      <td>1</td>\n",
       "      <td>[CXR3694_IM-1845-1001, CXR3694_IM-1845-2001]</td>\n",
       "      <td>2</td>\n",
       "      <td>interval removal leftsided chest tube small re...</td>\n",
       "      <td>no acute cardiopulmonary abnormality</td>\n",
       "    </tr>\n",
       "    <tr>\n",
       "      <th>9</th>\n",
       "      <td>CXR3664</td>\n",
       "      <td>There are no acute osseous abnormalities. Soft...</td>\n",
       "      <td>4</td>\n",
       "      <td>1. No acute radiographic cardiopulmonary process.</td>\n",
       "      <td>2</td>\n",
       "      <td>[CXR3664_IM-1822-1001, CXR3664_IM-1822-2001]</td>\n",
       "      <td>2</td>\n",
       "      <td>no acute osseous abnormalities soft tissue str...</td>\n",
       "      <td>no acute radiographic cardiopulmonary process</td>\n",
       "    </tr>\n",
       "  </tbody>\n",
       "</table>\n",
       "</div>"
      ],
      "text/plain": [
       "       UID  ...                                 CLEANED_IMPRESSION\n",
       "0  CXR3691  ...                                   no acute disease\n",
       "1  CXR3697  ...  no acute cardiopulmonary findings etensive fib...\n",
       "2  CXR3682  ...               no acute cardiopulmonary abnormality\n",
       "3  CXR3674  ...  no comparison chest wellepanded clear lungs me...\n",
       "4  CXR3685  ...                  no acute cardiopulmonary findings\n",
       "5    CXR37  ...                                   no acute disease\n",
       "6  CXR3703  ...          no evidence acute cardiopulmonary process\n",
       "7  CXR3702  ...                                        clear lungs\n",
       "8  CXR3694  ...               no acute cardiopulmonary abnormality\n",
       "9  CXR3664  ...      no acute radiographic cardiopulmonary process\n",
       "\n",
       "[10 rows x 9 columns]"
      ]
     },
     "execution_count": 11,
     "metadata": {
      "tags": []
     },
     "output_type": "execute_result"
    }
   ],
   "source": [
    "df.head(10)"
   ]
  },
  {
   "cell_type": "markdown",
   "metadata": {
    "id": "smtcJy9szgSn"
   },
   "source": [
    "## Dataset with Findings and Impression and Images"
   ]
  },
  {
   "cell_type": "code",
   "execution_count": null,
   "metadata": {
    "colab": {
     "base_uri": "https://localhost:8080/",
     "height": 36
    },
    "id": "So7T2DPhzgSq",
    "outputId": "a006ed17-0632-45b0-e8a6-fc0e4d46f7ca"
   },
   "outputs": [
    {
     "name": "stdout",
     "output_type": "stream",
     "text": [
      "(3331, 9)\n"
     ]
    }
   ],
   "source": [
    "# we will pick the dataset that has both findings and impressions\n",
    "df_final=df[(df['CLEANED_FINDINGS']!='') & (df['CLEANED_IMPRESSION']!='') & (df['NO_IMAGES'] != 0)]\n",
    "print(df_final.shape)"
   ]
  },
  {
   "cell_type": "markdown",
   "metadata": {
    "id": "TCRUlmpUElfp"
   },
   "source": [
    "## Exploratery Data Analysis"
   ]
  },
  {
   "cell_type": "markdown",
   "metadata": {
    "id": "w084HM6FSFJl"
   },
   "source": [
    "### Images"
   ]
  },
  {
   "cell_type": "code",
   "execution_count": null,
   "metadata": {
    "colab": {
     "base_uri": "https://localhost:8080/",
     "height": 625
    },
    "id": "wygtHmXsmygx",
    "outputId": "4a7397b6-91e4-4e38-aaf8-22203a7a9a93"
   },
   "outputs": [
    {
     "data": {
      "text/plain": [
       "<matplotlib.axes._subplots.AxesSubplot at 0x7f7e62b4e860>"
      ]
     },
     "execution_count": 13,
     "metadata": {
      "tags": []
     },
     "output_type": "execute_result"
    },
    {
     "data": {
      "image/png": "[encoded data removed]",
      "text/plain": [
       "<Figure size 1080x720 with 1 Axes>"
      ]
     },
     "metadata": {
      "needs_background": "light",
      "tags": []
     },
     "output_type": "display_data"
    }
   ],
   "source": [
    "# code to plot the histogram for the no. of images per report\n",
    "z = 'NO_IMAGES'\n",
    "fig, ax = plt.subplots(figsize =(15, 10))\n",
    "sns.countplot(x=z, data = df_final)"
   ]
  },
  {
   "cell_type": "code",
   "execution_count": null,
   "metadata": {
    "colab": {
     "base_uri": "https://localhost:8080/",
     "height": 132
    },
    "id": "kpGSM5d4c6Cp",
    "outputId": "38eff304-abf6-48c5-bdca-8e12450eecff"
   },
   "outputs": [
    {
     "data": {
      "text/plain": [
       "2    2784\n",
       "1     382\n",
       "3     150\n",
       "4      14\n",
       "5       1\n",
       "Name: NO_IMAGES, dtype: int64"
      ]
     },
     "execution_count": 14,
     "metadata": {
      "tags": []
     },
     "output_type": "execute_result"
    }
   ],
   "source": [
    "df_final[z].value_counts()"
   ]
  },
  {
   "cell_type": "markdown",
   "metadata": {
    "id": "9sE6GAfLczUt"
   },
   "source": [
    "__Conclusion: From the Graph we can see that only 2784 reports have both the Images__"
   ]
  },
  {
   "cell_type": "code",
   "execution_count": null,
   "metadata": {
    "id": "0fkSfIEx3WBK"
   },
   "outputs": [],
   "source": [
    "# this function will return the size of an image\n",
    "def img_res(filename):\n",
    "    # open an image file and get its resolution\n",
    "    with Image.open(filename) as image: \n",
    "        width, height = image.size \n",
    "    # return the image size as 'height X width'\n",
    "    size = str(height) + 'X' + str(width)\n",
    "    return size\n"
   ]
  },
  {
   "cell_type": "code",
   "execution_count": null,
   "metadata": {
    "colab": {
     "base_uri": "https://localhost:8080/",
     "height": 36
    },
    "id": "R3pHVNlD1iPg",
    "outputId": "b8df6fa0-b426-4eb1-e674-6d7e315c5e6a"
   },
   "outputs": [
    {
     "name": "stderr",
     "output_type": "stream",
     "text": [
      "100%|██████████| 3331/3331 [00:11<00:00, 283.45it/s]\n"
     ]
    }
   ],
   "source": [
    "# Lets find the resolutions of the image\n",
    "images = df_final['IMAGES'].values\n",
    "# This dict will store the image sizes as keys and count as values \n",
    "image_dict = dict()\n",
    "for i in tqdm(images):\n",
    "    # if more than one images \n",
    "    if len(i) > 1:\n",
    "        # for each image\n",
    "        for x in i:\n",
    "            # get size of image \n",
    "            path = img_path + '/' + x + '.png'\n",
    "            size = img_res(path)\n",
    "            # check if the image size is present in the dict\n",
    "            if size in image_dict.keys(): \n",
    "                val = image_dict[size]\n",
    "                # if present then increase the count by one \n",
    "                image_dict[size] = val + 1\n",
    "            else:\n",
    "                # else add the image to the directory\n",
    "                image_dict[size] = 1\n",
    "    else:\n",
    "        # if only one image is present\n",
    "        # get image size\n",
    "        path = img_path + '/' + x + '.png'\n",
    "        size = img_res(path)\n",
    "        # check if the image size is present in the dict\n",
    "        if size in image_dict.keys(): \n",
    "            val = image_dict[size]\n",
    "            # if present then increase the count by one \n",
    "            image_dict[size] = val + 1\n",
    "        else:\n",
    "            # else add the image to the directory\n",
    "            image_dict[size] = 1"
   ]
  },
  {
   "cell_type": "code",
   "execution_count": null,
   "metadata": {
    "colab": {
     "base_uri": "https://localhost:8080/",
     "height": 683
    },
    "id": "MR4uNRBY1iJK",
    "outputId": "13f853e6-0563-4ea8-bc02-183b872c3540"
   },
   "outputs": [
    {
     "name": "stdout",
     "output_type": "stream",
     "text": [
      "(290, 2)\n"
     ]
    },
    {
     "data": {
      "text/html": [
       "<div>\n",
       "<style scoped>\n",
       "    .dataframe tbody tr th:only-of-type {\n",
       "        vertical-align: middle;\n",
       "    }\n",
       "\n",
       "    .dataframe tbody tr th {\n",
       "        vertical-align: top;\n",
       "    }\n",
       "\n",
       "    .dataframe thead th {\n",
       "        text-align: right;\n",
       "    }\n",
       "</style>\n",
       "<table border=\"1\" class=\"dataframe\">\n",
       "  <thead>\n",
       "    <tr style=\"text-align: right;\">\n",
       "      <th></th>\n",
       "      <th>Size</th>\n",
       "      <th>Count</th>\n",
       "    </tr>\n",
       "  </thead>\n",
       "  <tbody>\n",
       "    <tr>\n",
       "      <th>1</th>\n",
       "      <td>624X512</td>\n",
       "      <td>1836</td>\n",
       "    </tr>\n",
       "    <tr>\n",
       "      <th>5</th>\n",
       "      <td>512X512</td>\n",
       "      <td>1315</td>\n",
       "    </tr>\n",
       "    <tr>\n",
       "      <th>0</th>\n",
       "      <td>420X512</td>\n",
       "      <td>1173</td>\n",
       "    </tr>\n",
       "    <tr>\n",
       "      <th>2</th>\n",
       "      <td>511X512</td>\n",
       "      <td>364</td>\n",
       "    </tr>\n",
       "    <tr>\n",
       "      <th>3</th>\n",
       "      <td>618X512</td>\n",
       "      <td>126</td>\n",
       "    </tr>\n",
       "    <tr>\n",
       "      <th>4</th>\n",
       "      <td>423X512</td>\n",
       "      <td>96</td>\n",
       "    </tr>\n",
       "    <tr>\n",
       "      <th>11</th>\n",
       "      <td>623X512</td>\n",
       "      <td>59</td>\n",
       "    </tr>\n",
       "    <tr>\n",
       "      <th>8</th>\n",
       "      <td>613X512</td>\n",
       "      <td>57</td>\n",
       "    </tr>\n",
       "    <tr>\n",
       "      <th>16</th>\n",
       "      <td>513X512</td>\n",
       "      <td>56</td>\n",
       "    </tr>\n",
       "    <tr>\n",
       "      <th>25</th>\n",
       "      <td>621X512</td>\n",
       "      <td>53</td>\n",
       "    </tr>\n",
       "    <tr>\n",
       "      <th>19</th>\n",
       "      <td>419X512</td>\n",
       "      <td>51</td>\n",
       "    </tr>\n",
       "    <tr>\n",
       "      <th>14</th>\n",
       "      <td>510X512</td>\n",
       "      <td>41</td>\n",
       "    </tr>\n",
       "    <tr>\n",
       "      <th>50</th>\n",
       "      <td>518X512</td>\n",
       "      <td>33</td>\n",
       "    </tr>\n",
       "    <tr>\n",
       "      <th>38</th>\n",
       "      <td>615X512</td>\n",
       "      <td>30</td>\n",
       "    </tr>\n",
       "    <tr>\n",
       "      <th>21</th>\n",
       "      <td>514X512</td>\n",
       "      <td>28</td>\n",
       "    </tr>\n",
       "    <tr>\n",
       "      <th>33</th>\n",
       "      <td>509X512</td>\n",
       "      <td>27</td>\n",
       "    </tr>\n",
       "    <tr>\n",
       "      <th>108</th>\n",
       "      <td>516X512</td>\n",
       "      <td>25</td>\n",
       "    </tr>\n",
       "    <tr>\n",
       "      <th>24</th>\n",
       "      <td>421X512</td>\n",
       "      <td>25</td>\n",
       "    </tr>\n",
       "    <tr>\n",
       "      <th>22</th>\n",
       "      <td>508X512</td>\n",
       "      <td>23</td>\n",
       "    </tr>\n",
       "    <tr>\n",
       "      <th>44</th>\n",
       "      <td>515X512</td>\n",
       "      <td>22</td>\n",
       "    </tr>\n",
       "  </tbody>\n",
       "</table>\n",
       "</div>"
      ],
      "text/plain": [
       "        Size  Count\n",
       "1    624X512   1836\n",
       "5    512X512   1315\n",
       "0    420X512   1173\n",
       "2    511X512    364\n",
       "3    618X512    126\n",
       "4    423X512     96\n",
       "11   623X512     59\n",
       "8    613X512     57\n",
       "16   513X512     56\n",
       "25   621X512     53\n",
       "19   419X512     51\n",
       "14   510X512     41\n",
       "50   518X512     33\n",
       "38   615X512     30\n",
       "21   514X512     28\n",
       "33   509X512     27\n",
       "108  516X512     25\n",
       "24   421X512     25\n",
       "22   508X512     23\n",
       "44   515X512     22"
      ]
     },
     "execution_count": 17,
     "metadata": {
      "tags": []
     },
     "output_type": "execute_result"
    }
   ],
   "source": [
    "# put the dict in a dataframe\n",
    "Image_df = pd.DataFrame()\n",
    "Image_df['Size'] = image_dict.keys()\n",
    "Image_df['Count'] = image_dict.values()\n",
    "# print the shape\n",
    "print(Image_df.shape)\n",
    "# Now lets sort this \n",
    "Image_df.sort_values(by=['Count'], inplace = True, ascending=False)\n",
    "Image_df.head(20)"
   ]
  },
  {
   "cell_type": "markdown",
   "metadata": {
    "id": "LL2se7f61-EW"
   },
   "source": [
    "__Conclusion: From the values above we see a lot of variations in the X-Ray Image sizes__ "
   ]
  },
  {
   "cell_type": "markdown",
   "metadata": {
    "id": "hmmyOke4SLXU"
   },
   "source": [
    "##Findings"
   ]
  },
  {
   "cell_type": "code",
   "execution_count": null,
   "metadata": {
    "colab": {
     "base_uri": "https://localhost:8080/",
     "height": 132
    },
    "id": "QVKHopRb0ukz",
    "outputId": "63aef18b-535f-4d1a-d00c-ed9f324a3808"
   },
   "outputs": [
    {
     "data": {
      "text/plain": [
       "2    2784\n",
       "1     382\n",
       "3     150\n",
       "4      14\n",
       "5       1\n",
       "Name: NO_IMAGES, dtype: int64"
      ]
     },
     "execution_count": 18,
     "metadata": {
      "tags": []
     },
     "output_type": "execute_result"
    }
   ],
   "source": [
    "# see the count values\n",
    "df_final[z].value_counts()"
   ]
  },
  {
   "cell_type": "code",
   "execution_count": null,
   "metadata": {
    "colab": {
     "base_uri": "https://localhost:8080/",
     "height": 625
    },
    "id": "xolg84zAmyc2",
    "outputId": "0e332322-8031-4a7d-f5b7-b95cde803fe9"
   },
   "outputs": [
    {
     "data": {
      "text/plain": [
       "<matplotlib.axes._subplots.AxesSubplot at 0x7f7e62431128>"
      ]
     },
     "execution_count": 19,
     "metadata": {
      "tags": []
     },
     "output_type": "execute_result"
    },
    {
     "data": {
      "image/png": "[encoded data removed]",
      "text/plain": [
       "<Figure size 1080x720 with 1 Axes>"
      ]
     },
     "metadata": {
      "needs_background": "light",
      "tags": []
     },
     "output_type": "display_data"
    }
   ],
   "source": [
    "# code to plot the histogram for the no. of sentences in Findings\n",
    "z = 'NS_FINDINGS'\n",
    "fig, ax = plt.subplots(figsize =(15, 10))\n",
    "sns.countplot(x=z, data = df_final)"
   ]
  },
  {
   "cell_type": "markdown",
   "metadata": {
    "id": "8sQgmty52gNB"
   },
   "source": [
    "__Conclusion: From the above Diagram we see that the number of sentences in Findings ranges from 3 to 7__"
   ]
  },
  {
   "cell_type": "code",
   "execution_count": null,
   "metadata": {
    "colab": {
     "base_uri": "https://localhost:8080/",
     "height": 664
    },
    "id": "6tb4ABHpbvif",
    "outputId": "34f18ae7-c93b-423c-d991-891fba7b7be9"
   },
   "outputs": [
    {
     "data": {
      "text/html": [
       "<div>\n",
       "<style scoped>\n",
       "    .dataframe tbody tr th:only-of-type {\n",
       "        vertical-align: middle;\n",
       "    }\n",
       "\n",
       "    .dataframe tbody tr th {\n",
       "        vertical-align: top;\n",
       "    }\n",
       "\n",
       "    .dataframe thead th {\n",
       "        text-align: right;\n",
       "    }\n",
       "</style>\n",
       "<table border=\"1\" class=\"dataframe\">\n",
       "  <thead>\n",
       "    <tr style=\"text-align: right;\">\n",
       "      <th></th>\n",
       "      <th>Words</th>\n",
       "      <th>Count</th>\n",
       "    </tr>\n",
       "  </thead>\n",
       "  <tbody>\n",
       "    <tr>\n",
       "      <th>888</th>\n",
       "      <td>no</td>\n",
       "      <td>4344</td>\n",
       "    </tr>\n",
       "    <tr>\n",
       "      <th>901</th>\n",
       "      <td>normal</td>\n",
       "      <td>3442</td>\n",
       "    </tr>\n",
       "    <tr>\n",
       "      <th>1030</th>\n",
       "      <td>pleural</td>\n",
       "      <td>2434</td>\n",
       "    </tr>\n",
       "    <tr>\n",
       "      <th>1040</th>\n",
       "      <td>pneumothora</td>\n",
       "      <td>2368</td>\n",
       "    </tr>\n",
       "    <tr>\n",
       "      <th>445</th>\n",
       "      <td>effusion</td>\n",
       "      <td>2208</td>\n",
       "    </tr>\n",
       "    <tr>\n",
       "      <th>599</th>\n",
       "      <td>heart</td>\n",
       "      <td>2108</td>\n",
       "    </tr>\n",
       "    <tr>\n",
       "      <th>793</th>\n",
       "      <td>lungs</td>\n",
       "      <td>1942</td>\n",
       "    </tr>\n",
       "    <tr>\n",
       "      <th>1266</th>\n",
       "      <td>size</td>\n",
       "      <td>1888</td>\n",
       "    </tr>\n",
       "    <tr>\n",
       "      <th>536</th>\n",
       "      <td>focal</td>\n",
       "      <td>1715</td>\n",
       "    </tr>\n",
       "    <tr>\n",
       "      <th>1506</th>\n",
       "      <td>within</td>\n",
       "      <td>1498</td>\n",
       "    </tr>\n",
       "    <tr>\n",
       "      <th>234</th>\n",
       "      <td>clear</td>\n",
       "      <td>1488</td>\n",
       "    </tr>\n",
       "    <tr>\n",
       "      <th>762</th>\n",
       "      <td>limits</td>\n",
       "      <td>1443</td>\n",
       "    </tr>\n",
       "    <tr>\n",
       "      <th>1095</th>\n",
       "      <td>pulmonary</td>\n",
       "      <td>1183</td>\n",
       "    </tr>\n",
       "    <tr>\n",
       "      <th>282</th>\n",
       "      <td>consolidation</td>\n",
       "      <td>1049</td>\n",
       "    </tr>\n",
       "    <tr>\n",
       "      <th>1258</th>\n",
       "      <td>silhouette</td>\n",
       "      <td>954</td>\n",
       "    </tr>\n",
       "    <tr>\n",
       "      <th>1191</th>\n",
       "      <td>right</td>\n",
       "      <td>893</td>\n",
       "    </tr>\n",
       "    <tr>\n",
       "      <th>828</th>\n",
       "      <td>mediastinal</td>\n",
       "      <td>836</td>\n",
       "    </tr>\n",
       "    <tr>\n",
       "      <th>36</th>\n",
       "      <td>airspace</td>\n",
       "      <td>813</td>\n",
       "    </tr>\n",
       "    <tr>\n",
       "      <th>187</th>\n",
       "      <td>cardiomediastinal</td>\n",
       "      <td>790</td>\n",
       "    </tr>\n",
       "    <tr>\n",
       "      <th>746</th>\n",
       "      <td>left</td>\n",
       "      <td>761</td>\n",
       "    </tr>\n",
       "  </tbody>\n",
       "</table>\n",
       "</div>"
      ],
      "text/plain": [
       "                  Words  Count\n",
       "888                  no   4344\n",
       "901              normal   3442\n",
       "1030            pleural   2434\n",
       "1040        pneumothora   2368\n",
       "445            effusion   2208\n",
       "599               heart   2108\n",
       "793               lungs   1942\n",
       "1266               size   1888\n",
       "536               focal   1715\n",
       "1506             within   1498\n",
       "234               clear   1488\n",
       "762              limits   1443\n",
       "1095          pulmonary   1183\n",
       "282       consolidation   1049\n",
       "1258         silhouette    954\n",
       "1191              right    893\n",
       "828         mediastinal    836\n",
       "36             airspace    813\n",
       "187   cardiomediastinal    790\n",
       "746                left    761"
      ]
     },
     "execution_count": 20,
     "metadata": {
      "tags": []
     },
     "output_type": "execute_result"
    }
   ],
   "source": [
    "# code to find the most and appearing words in the Findings\n",
    "# fit a countvectorizer\n",
    "cv = CountVectorizer(ngram_range=(1, 1))   \n",
    "cv_fit=cv.fit_transform(df_final.CLEANED_FINDINGS) \n",
    "# get words and corresponding counts \n",
    "word_list = cv.get_feature_names()   \n",
    "count_list = cv_fit.toarray().sum(axis=0)  \n",
    "# create dict from words and counts \n",
    "findings_word_freq = dict(zip(word_list,count_list))\n",
    "# create dataframe from the dict\n",
    "df_findings_word_freq = pd.DataFrame()\n",
    "df_findings_word_freq['Words'] = findings_word_freq.keys()\n",
    "df_findings_word_freq['Count'] = findings_word_freq.values()\n",
    "# sort the count values and get the top 20 most occuring words \n",
    "df_findings_word_freq.sort_values(by=['Count'], inplace = True, ascending=False)\n",
    "df_findings_word_freq.head(20)"
   ]
  },
  {
   "cell_type": "markdown",
   "metadata": {
    "id": "4Ejzz50t3ByN"
   },
   "source": [
    "__Conclusion: From the above table we see the no is the highest occuring word which means that many reports are normal and may not have any abmormalities__"
   ]
  },
  {
   "cell_type": "markdown",
   "metadata": {
    "id": "r7UWX4HtSILy"
   },
   "source": [
    "### Impressions"
   ]
  },
  {
   "cell_type": "code",
   "execution_count": null,
   "metadata": {
    "colab": {
     "base_uri": "https://localhost:8080/",
     "height": 344
    },
    "id": "p4YQpFzhx4tC",
    "outputId": "251f7405-8cda-4066-bd78-660bf82b4804"
   },
   "outputs": [
    {
     "data": {
      "text/plain": [
       "4     966\n",
       "5     753\n",
       "3     713\n",
       "6     448\n",
       "7     171\n",
       "2      90\n",
       "8      89\n",
       "9      53\n",
       "10     14\n",
       "11     12\n",
       "1       8\n",
       "12      6\n",
       "13      4\n",
       "18      2\n",
       "16      1\n",
       "14      1\n",
       "Name: NS_FINDINGS, dtype: int64"
      ]
     },
     "execution_count": 21,
     "metadata": {
      "tags": []
     },
     "output_type": "execute_result"
    }
   ],
   "source": [
    "# see the count values\n",
    "df_final[z].value_counts()"
   ]
  },
  {
   "cell_type": "code",
   "execution_count": null,
   "metadata": {
    "colab": {
     "base_uri": "https://localhost:8080/",
     "height": 625
    },
    "id": "EpSRSuVYmyO8",
    "outputId": "46803121-6efd-43e0-e543-fbe496ccff9d"
   },
   "outputs": [
    {
     "data": {
      "text/plain": [
       "<matplotlib.axes._subplots.AxesSubplot at 0x7f7e620e00f0>"
      ]
     },
     "execution_count": 22,
     "metadata": {
      "tags": []
     },
     "output_type": "execute_result"
    },
    {
     "data": {
      "image/png": "[encoded data removed]",
      "text/plain": [
       "<Figure size 1080x720 with 1 Axes>"
      ]
     },
     "metadata": {
      "needs_background": "light",
      "tags": []
     },
     "output_type": "display_data"
    }
   ],
   "source": [
    "# code to plot the histogram for the no. of sentences in Impression\n",
    "z = 'NS_IMPRESSION'\n",
    "fig, ax = plt.subplots(figsize =(15, 10))\n",
    "sns.countplot(x=z, data = df_final)"
   ]
  },
  {
   "cell_type": "markdown",
   "metadata": {
    "id": "cuCmcgUu3knx"
   },
   "source": [
    "__Conclusion: From the above Diagram we see that the number of sentences in Findings ranges from 1 to 2__"
   ]
  },
  {
   "cell_type": "code",
   "execution_count": null,
   "metadata": {
    "colab": {
     "base_uri": "https://localhost:8080/",
     "height": 664
    },
    "id": "EP4TmW3Awswk",
    "outputId": "55cf6969-41fa-41c1-bc59-7377fdac1dc9"
   },
   "outputs": [
    {
     "data": {
      "text/html": [
       "<div>\n",
       "<style scoped>\n",
       "    .dataframe tbody tr th:only-of-type {\n",
       "        vertical-align: middle;\n",
       "    }\n",
       "\n",
       "    .dataframe tbody tr th {\n",
       "        vertical-align: top;\n",
       "    }\n",
       "\n",
       "    .dataframe thead th {\n",
       "        text-align: right;\n",
       "    }\n",
       "</style>\n",
       "<table border=\"1\" class=\"dataframe\">\n",
       "  <thead>\n",
       "    <tr style=\"text-align: right;\">\n",
       "      <th></th>\n",
       "      <th>Words</th>\n",
       "      <th>Count</th>\n",
       "    </tr>\n",
       "  </thead>\n",
       "  <tbody>\n",
       "    <tr>\n",
       "      <th>679</th>\n",
       "      <td>no</td>\n",
       "      <td>2481</td>\n",
       "    </tr>\n",
       "    <tr>\n",
       "      <th>14</th>\n",
       "      <td>acute</td>\n",
       "      <td>2198</td>\n",
       "    </tr>\n",
       "    <tr>\n",
       "      <th>146</th>\n",
       "      <td>cardiopulmonary</td>\n",
       "      <td>1537</td>\n",
       "    </tr>\n",
       "    <tr>\n",
       "      <th>312</th>\n",
       "      <td>disease</td>\n",
       "      <td>959</td>\n",
       "    </tr>\n",
       "    <tr>\n",
       "      <th>4</th>\n",
       "      <td>abnormality</td>\n",
       "      <td>752</td>\n",
       "    </tr>\n",
       "    <tr>\n",
       "      <th>408</th>\n",
       "      <td>findings</td>\n",
       "      <td>416</td>\n",
       "    </tr>\n",
       "    <tr>\n",
       "      <th>843</th>\n",
       "      <td>pulmonary</td>\n",
       "      <td>345</td>\n",
       "    </tr>\n",
       "    <tr>\n",
       "      <th>922</th>\n",
       "      <td>right</td>\n",
       "      <td>338</td>\n",
       "    </tr>\n",
       "    <tr>\n",
       "      <th>826</th>\n",
       "      <td>process</td>\n",
       "      <td>320</td>\n",
       "    </tr>\n",
       "    <tr>\n",
       "      <th>11</th>\n",
       "      <td>active</td>\n",
       "      <td>317</td>\n",
       "    </tr>\n",
       "    <tr>\n",
       "      <th>576</th>\n",
       "      <td>left</td>\n",
       "      <td>310</td>\n",
       "    </tr>\n",
       "    <tr>\n",
       "      <th>168</th>\n",
       "      <td>chest</td>\n",
       "      <td>310</td>\n",
       "    </tr>\n",
       "    <tr>\n",
       "      <th>388</th>\n",
       "      <td>evidence</td>\n",
       "      <td>285</td>\n",
       "    </tr>\n",
       "    <tr>\n",
       "      <th>80</th>\n",
       "      <td>atelectasis</td>\n",
       "      <td>218</td>\n",
       "    </tr>\n",
       "    <tr>\n",
       "      <th>614</th>\n",
       "      <td>lung</td>\n",
       "      <td>216</td>\n",
       "    </tr>\n",
       "    <tr>\n",
       "      <th>143</th>\n",
       "      <td>cardiomegaly</td>\n",
       "      <td>199</td>\n",
       "    </tr>\n",
       "    <tr>\n",
       "      <th>3</th>\n",
       "      <td>abnormalities</td>\n",
       "      <td>185</td>\n",
       "    </tr>\n",
       "    <tr>\n",
       "      <th>1000</th>\n",
       "      <td>stable</td>\n",
       "      <td>184</td>\n",
       "    </tr>\n",
       "    <tr>\n",
       "      <th>789</th>\n",
       "      <td>pleural</td>\n",
       "      <td>165</td>\n",
       "    </tr>\n",
       "    <tr>\n",
       "      <th>615</th>\n",
       "      <td>lungs</td>\n",
       "      <td>151</td>\n",
       "    </tr>\n",
       "  </tbody>\n",
       "</table>\n",
       "</div>"
      ],
      "text/plain": [
       "                Words  Count\n",
       "679                no   2481\n",
       "14              acute   2198\n",
       "146   cardiopulmonary   1537\n",
       "312           disease    959\n",
       "4         abnormality    752\n",
       "408          findings    416\n",
       "843         pulmonary    345\n",
       "922             right    338\n",
       "826           process    320\n",
       "11             active    317\n",
       "576              left    310\n",
       "168             chest    310\n",
       "388          evidence    285\n",
       "80        atelectasis    218\n",
       "614              lung    216\n",
       "143      cardiomegaly    199\n",
       "3       abnormalities    185\n",
       "1000           stable    184\n",
       "789           pleural    165\n",
       "615             lungs    151"
      ]
     },
     "execution_count": 23,
     "metadata": {
      "tags": []
     },
     "output_type": "execute_result"
    }
   ],
   "source": [
    "# code to find the most and least appearing words in the Impression\n",
    "# fit a countvectorizer\n",
    "cv = CountVectorizer(ngram_range=(1, 1))   \n",
    "cv_fit=cv.fit_transform(df_final.CLEANED_IMPRESSION)  \n",
    "# get words and corresponding counts   \n",
    "word_list = cv.get_feature_names()   \n",
    "count_list = cv_fit.toarray().sum(axis=0)   \n",
    "# create dict from words and counts \n",
    "impression_word_freq = dict(zip(word_list,count_list))\n",
    "# create dataframe from the dict\n",
    "df_impression_word_freq = pd.DataFrame()\n",
    "df_impression_word_freq['Words'] = impression_word_freq.keys()\n",
    "df_impression_word_freq['Count'] = impression_word_freq.values()\n",
    "# sort the count values and get the top 20 most occuring words \n",
    "df_impression_word_freq.sort_values(by=['Count'], inplace = True, ascending=False)\n",
    "df_impression_word_freq.head(20)"
   ]
  },
  {
   "cell_type": "markdown",
   "metadata": {
    "id": "RAW454HS33Zg"
   },
   "source": [
    "__Conclusion: From the above table we see the no is the highest occuring word which means that many conclusions may not have any abmormalities__"
   ]
  },
  {
   "cell_type": "code",
   "execution_count": null,
   "metadata": {
    "id": "sR71OjGc2gyU"
   },
   "outputs": [],
   "source": [
    "# save the final dataframe in a csv file\n",
    "drive_path = '/content/gdrive/My Drive/Assignments_Drive/Case_Study_2/Medical_Data'\n",
    "cleaned_csv = drive_path + '/cleaned_data.csv'\n",
    "df_final.to_csv(cleaned_csv)"
   ]
  },
  {
   "cell_type": "markdown",
   "metadata": {
    "id": "T4J42Ds74IWb"
   },
   "source": [
    "## Conclusions"
   ]
  },
  {
   "cell_type": "markdown",
   "metadata": {
    "id": "9U_v-XHM4MH0"
   },
   "source": [
    "- In this Notebook we extracted the text data (Impressions and Findings) from the reports \n",
    "- We saw that Many Reports had no Images at all, but most of the reports had 2 X-Ray Images associated with them\n",
    "- The No. of sentences in the Findings Section ranges from 3-7\n",
    "- The No. of sentences in the Impression Section Ranges from 1-2\n",
    "- The Most occuring word in the findings and the impression section is 'no' which may mean that most of the reports in the dataset are of normal chest x-rays without any abnormalities "
   ]
  },
  {
   "cell_type": "markdown",
   "metadata": {
    "id": "gEJ1mUMio1u1"
   },
   "source": [
    "## References\n",
    "\n",
    "- https://github.com/nagapavan525/radiology-report-generation/blob/master/NewIntegrationWithIndication/1_Capstone-Radiology-PreProcessing.ipynb\n",
    "- https://www.crummy.com/software/BeautifulSoup/bs4/doc/\n",
    "- https://stackoverflow.com/questions/2612548/extracting-an-attribute-value-with-beautifulsoup\n",
    "- https://stackoverflow.com/questions/24962673/beautiful-soup-getting-tag-id\n",
    "- https://stackoverflow.com/a/47091490/4084039\n",
    "- https://www.appservgrid.com/psam/Python_Samplifier--python1compute--Python_Program_to_Find_the_Size_(Resolution)_of_a_Image.html\n",
    "- https://www.geeksforgeeks.org/working-images-python/\n",
    "- https://gist.github.com/sebleier/554280\n",
    "- https://stackoverflow.com/questions/27488446/how-do-i-get-word-frequency-in-a-corpus-using-scikit-learn-countvectorizer\n",
    "- https://www.geeksforgeeks.org/python-remove-all-digits-from-a-list-of-strings/\n",
    "- https://stackoverflow.com/questions/12851791/removing-numbers-from-string\n",
    "- https://github.com/nagapavan525/radiology-report-generation/blob/master/radiology_report_generation_final/AutomatedRadiologyReportGenerationWithSentenceEmbeddings.ipynb\n",
    "- https://machinelearningmastery.com/develop-a-deep-learning-caption-generation-model-in-python/"
   ]
  }
 ],
 "metadata": {
  "colab": {
   "collapsed_sections": [],
   "name": "EDA_Data_Preparation_Automatic_Diagnosis_Generation_Given_Chest_X-rays_And_Radiological_Findings.ipynb",
   "provenance": [],
   "toc_visible": true
  },
  "kernelspec": {
   "display_name": "Python 3",
   "language": "python",
   "name": "python3"
  },
  "language_info": {
   "codemirror_mode": {
    "name": "ipython",
    "version": 3
   },
   "file_extension": ".py",
   "mimetype": "text/x-python",
   "name": "python",
   "nbconvert_exporter": "python",
   "pygments_lexer": "ipython3",
   "version": "3.7.3"
  },
  "toc": {
   "base_numbering": 1,
   "nav_menu": {},
   "number_sections": true,
   "sideBar": true,
   "skip_h1_title": true,
   "title_cell": "Table of Contents",
   "title_sidebar": "Contents",
   "toc_cell": true,
   "toc_position": {},
   "toc_section_display": true,
   "toc_window_display": true
  },
  "varInspector": {
   "cols": {
    "lenName": 16,
    "lenType": 16,
    "lenVar": 40
   },
   "kernels_config": {
    "python": {
     "delete_cmd_postfix": "",
     "delete_cmd_prefix": "del ",
     "library": "var_list.py",
     "varRefreshCmd": "print(var_dic_list())"
    },
    "r": {
     "delete_cmd_postfix": ") ",
     "delete_cmd_prefix": "rm(",
     "library": "var_list.r",
     "varRefreshCmd": "cat(var_dic_list()) "
    }
   },
   "types_to_exclude": [
    "module",
    "function",
    "builtin_function_or_method",
    "instance",
    "_Feature"
   ],
   "window_display": false
  }
 },
 "nbformat": 4,
 "nbformat_minor": 1
}
